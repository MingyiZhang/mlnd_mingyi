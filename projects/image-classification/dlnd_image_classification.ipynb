{
 "cells": [
  {
   "cell_type": "markdown",
   "metadata": {
    "collapsed": true,
    "deletable": true,
    "editable": true
   },
   "source": [
    "# Image Classification\n",
    "In this project, you'll classify images from the [CIFAR-10 dataset](https://www.cs.toronto.edu/~kriz/cifar.html).  The dataset consists of airplanes, dogs, cats, and other objects. You'll preprocess the images, then train a convolutional neural network on all the samples. The images need to be normalized and the labels need to be one-hot encoded.  You'll get to apply what you learned and build a convolutional, max pooling, dropout, and fully connected layers.  At the end, you'll get to see your neural network's predictions on the sample images.\n",
    "## Get the Data\n",
    "Run the following cell to download the [CIFAR-10 dataset for python](https://www.cs.toronto.edu/~kriz/cifar-10-python.tar.gz)."
   ]
  },
  {
   "cell_type": "code",
   "execution_count": 1,
   "metadata": {
    "collapsed": false,
    "deletable": true,
    "editable": true
   },
   "outputs": [
    {
     "name": "stderr",
     "output_type": "stream",
     "text": [
      "CIFAR-10 Dataset: 171MB [00:59, 2.86MB/s]                              \n"
     ]
    },
    {
     "name": "stdout",
     "output_type": "stream",
     "text": [
      "All files found!\n"
     ]
    }
   ],
   "source": [
    "\"\"\"\n",
    "DON'T MODIFY ANYTHING IN THIS CELL THAT IS BELOW THIS LINE\n",
    "\"\"\"\n",
    "from urllib.request import urlretrieve\n",
    "from os.path import isfile, isdir\n",
    "from tqdm import tqdm\n",
    "import problem_unittests as tests\n",
    "import tarfile\n",
    "\n",
    "cifar10_dataset_folder_path = 'cifar-10-batches-py'\n",
    "\n",
    "# Use Floyd's cifar-10 dataset if present\n",
    "floyd_cifar10_location = '/input/cifar-10/python.tar.gz'\n",
    "if isfile(floyd_cifar10_location):\n",
    "    tar_gz_path = floyd_cifar10_location\n",
    "else:\n",
    "    tar_gz_path = 'cifar-10-python.tar.gz'\n",
    "\n",
    "class DLProgress(tqdm):\n",
    "    last_block = 0\n",
    "\n",
    "    def hook(self, block_num=1, block_size=1, total_size=None):\n",
    "        self.total = total_size\n",
    "        self.update((block_num - self.last_block) * block_size)\n",
    "        self.last_block = block_num\n",
    "\n",
    "if not isfile(tar_gz_path):\n",
    "    with DLProgress(unit='B', unit_scale=True, miniters=1, desc='CIFAR-10 Dataset') as pbar:\n",
    "        urlretrieve(\n",
    "            'https://www.cs.toronto.edu/~kriz/cifar-10-python.tar.gz',\n",
    "            tar_gz_path,\n",
    "            pbar.hook)\n",
    "\n",
    "if not isdir(cifar10_dataset_folder_path):\n",
    "    with tarfile.open(tar_gz_path) as tar:\n",
    "        tar.extractall()\n",
    "        tar.close()\n",
    "\n",
    "\n",
    "tests.test_folder_path(cifar10_dataset_folder_path)"
   ]
  },
  {
   "cell_type": "markdown",
   "metadata": {
    "deletable": true,
    "editable": true
   },
   "source": [
    "## Explore the Data\n",
    "The dataset is broken into batches to prevent your machine from running out of memory.  The CIFAR-10 dataset consists of 5 batches, named `data_batch_1`, `data_batch_2`, etc.. Each batch contains the labels and images that are one of the following:\n",
    "* airplane\n",
    "* automobile\n",
    "* bird\n",
    "* cat\n",
    "* deer\n",
    "* dog\n",
    "* frog\n",
    "* horse\n",
    "* ship\n",
    "* truck\n",
    "\n",
    "Understanding a dataset is part of making predictions on the data.  Play around with the code cell below by changing the `batch_id` and `sample_id`. The `batch_id` is the id for a batch (1-5). The `sample_id` is the id for a image and label pair in the batch.\n",
    "\n",
    "Ask yourself \"What are all possible labels?\", \"What is the range of values for the image data?\", \"Are the labels in order or random?\".  Answers to questions like these will help you preprocess the data and end up with better predictions."
   ]
  },
  {
   "cell_type": "code",
   "execution_count": 2,
   "metadata": {
    "collapsed": false,
    "deletable": true,
    "editable": true
   },
   "outputs": [
    {
     "name": "stdout",
     "output_type": "stream",
     "text": [
      "\n",
      "Stats of batch 1:\n",
      "Samples: 10000\n",
      "Label Counts: {0: 1005, 1: 974, 2: 1032, 3: 1016, 4: 999, 5: 937, 6: 1030, 7: 1001, 8: 1025, 9: 981}\n",
      "First 20 Labels: [6, 9, 9, 4, 1, 1, 2, 7, 8, 3, 4, 7, 7, 2, 9, 9, 9, 3, 2, 6]\n",
      "\n",
      "Example of Image 5:\n",
      "Image - Min Value: 0 Max Value: 252\n",
      "Image - Shape: (32, 32, 3)\n",
      "Label - Label Id: 1 Name: automobile\n"
     ]
    },
    {
     "data": {
      "image/png": "[encoded data removed]",
      "text/plain": [
       "<matplotlib.figure.Figure at 0x7fc55d1cdcf8>"
      ]
     },
     "metadata": {
      "image/png": {
       "height": 250,
       "width": 253
      }
     },
     "output_type": "display_data"
    }
   ],
   "source": [
    "%matplotlib inline\n",
    "%config InlineBackend.figure_format = 'retina'\n",
    "\n",
    "import helper\n",
    "import numpy as np\n",
    "\n",
    "# Explore the dataset\n",
    "batch_id = 1\n",
    "sample_id = 5\n",
    "helper.display_stats(cifar10_dataset_folder_path, batch_id, sample_id)"
   ]
  },
  {
   "cell_type": "markdown",
   "metadata": {
    "deletable": true,
    "editable": true
   },
   "source": [
    "## Implement Preprocess Functions\n",
    "### Normalize\n",
    "In the cell below, implement the `normalize` function to take in image data, `x`, and return it as a normalized Numpy array. The values should be in the range of 0 to 1, inclusive.  The return object should be the same shape as `x`."
   ]
  },
  {
   "cell_type": "code",
   "execution_count": 3,
   "metadata": {
    "collapsed": false,
    "deletable": true,
    "editable": true
   },
   "outputs": [
    {
     "name": "stdout",
     "output_type": "stream",
     "text": [
      "Tests Passed\n"
     ]
    }
   ],
   "source": [
    "def normalize(x):\n",
    "    \"\"\"\n",
    "    Normalize a list of sample image data in the range of 0 to 1\n",
    "    : x: List of image data.  The image shape is (32, 32, 3)\n",
    "    : return: Numpy array of normalize data\n",
    "    \"\"\"\n",
    "    # TODO: Implement Function\n",
    "    return np.array(x) / 255.\n",
    "\n",
    "\n",
    "\"\"\"\n",
    "DON'T MODIFY ANYTHING IN THIS CELL THAT IS BELOW THIS LINE\n",
    "\"\"\"\n",
    "tests.test_normalize(normalize)"
   ]
  },
  {
   "cell_type": "markdown",
   "metadata": {
    "deletable": true,
    "editable": true
   },
   "source": [
    "### One-hot encode\n",
    "Just like the previous code cell, you'll be implementing a function for preprocessing.  This time, you'll implement the `one_hot_encode` function. The input, `x`, are a list of labels.  Implement the function to return the list of labels as One-Hot encoded Numpy array.  The possible values for labels are 0 to 9. The one-hot encoding function should return the same encoding for each value between each call to `one_hot_encode`.  Make sure to save the map of encodings outside the function.\n",
    "\n",
    "Hint: Don't reinvent the wheel."
   ]
  },
  {
   "cell_type": "code",
   "execution_count": 4,
   "metadata": {
    "collapsed": false,
    "deletable": true,
    "editable": true
   },
   "outputs": [
    {
     "name": "stdout",
     "output_type": "stream",
     "text": [
      "[0 1 2 3 4 5 6 7 8 9]\n"
     ]
    },
    {
     "data": {
      "text/plain": [
       "LabelBinarizer(neg_label=0, pos_label=1, sparse_output=False)"
      ]
     },
     "execution_count": 4,
     "metadata": {},
     "output_type": "execute_result"
    }
   ],
   "source": [
    "from sklearn.preprocessing import LabelBinarizer\n",
    "lb = LabelBinarizer()\n",
    "\n",
    "x = np.array([x for x in range(10)])\n",
    "print(x)\n",
    "\n",
    "lb.fit(x)"
   ]
  },
  {
   "cell_type": "code",
   "execution_count": 5,
   "metadata": {
    "collapsed": false,
    "deletable": true,
    "editable": true
   },
   "outputs": [
    {
     "name": "stdout",
     "output_type": "stream",
     "text": [
      "Tests Passed\n"
     ]
    }
   ],
   "source": [
    "def one_hot_encode(x):\n",
    "    \"\"\"\n",
    "    One hot encode a list of sample labels. Return a one-hot encoded vector for each label.\n",
    "    : x: List of sample Labels\n",
    "    : return: Numpy array of one-hot encoded labels\n",
    "    \"\"\"\n",
    "    # TODO: Implement Function\n",
    "    return lb.transform(x)\n",
    "\n",
    "\n",
    "\"\"\"\n",
    "DON'T MODIFY ANYTHING IN THIS CELL THAT IS BELOW THIS LINE\n",
    "\"\"\"\n",
    "tests.test_one_hot_encode(one_hot_encode)"
   ]
  },
  {
   "cell_type": "markdown",
   "metadata": {
    "deletable": true,
    "editable": true
   },
   "source": [
    "### Randomize Data\n",
    "As you saw from exploring the data above, the order of the samples are randomized.  It doesn't hurt to randomize it again, but you don't need to for this dataset."
   ]
  },
  {
   "cell_type": "markdown",
   "metadata": {
    "deletable": true,
    "editable": true
   },
   "source": [
    "## Preprocess all the data and save it\n",
    "Running the code cell below will preprocess all the CIFAR-10 data and save it to file. The code below also uses 10% of the training data for validation."
   ]
  },
  {
   "cell_type": "code",
   "execution_count": 6,
   "metadata": {
    "collapsed": false,
    "deletable": true,
    "editable": true
   },
   "outputs": [],
   "source": [
    "\"\"\"\n",
    "DON'T MODIFY ANYTHING IN THIS CELL\n",
    "\"\"\"\n",
    "# Preprocess Training, Validation, and Testing Data\n",
    "helper.preprocess_and_save_data(cifar10_dataset_folder_path, normalize, one_hot_encode)"
   ]
  },
  {
   "cell_type": "markdown",
   "metadata": {
    "deletable": true,
    "editable": true
   },
   "source": [
    "# Check Point\n",
    "This is your first checkpoint.  If you ever decide to come back to this notebook or have to restart the notebook, you can start from here.  The preprocessed data has been saved to disk."
   ]
  },
  {
   "cell_type": "code",
   "execution_count": 7,
   "metadata": {
    "collapsed": true,
    "deletable": true,
    "editable": true
   },
   "outputs": [],
   "source": [
    "\"\"\"\n",
    "DON'T MODIFY ANYTHING IN THIS CELL\n",
    "\"\"\"\n",
    "import pickle\n",
    "import problem_unittests as tests\n",
    "import helper\n",
    "\n",
    "# Load the Preprocessed Validation data\n",
    "valid_features, valid_labels = pickle.load(open('preprocess_validation.p', mode='rb'))"
   ]
  },
  {
   "cell_type": "markdown",
   "metadata": {
    "deletable": true,
    "editable": true
   },
   "source": [
    "## Build the network\n",
    "For the neural network, you'll build each layer into a function.  Most of the code you've seen has been outside of functions. To test your code more thoroughly, we require that you put each layer in a function.  This allows us to give you better feedback and test for simple mistakes using our unittests before you submit your project.\n",
    "\n",
    ">**Note:** If you're finding it hard to dedicate enough time for this course each week, we've provided a small shortcut to this part of the project. In the next couple of problems, you'll have the option to use classes from the [TensorFlow Layers](https://www.tensorflow.org/api_docs/python/tf/layers) or [TensorFlow Layers (contrib)](https://www.tensorflow.org/api_guides/python/contrib.layers) packages to build each layer, except the layers you build in the \"Convolutional and Max Pooling Layer\" section.  TF Layers is similar to Keras's and TFLearn's abstraction to layers, so it's easy to pickup.\n",
    "\n",
    ">However, if you would like to get the most out of this course, try to solve all the problems _without_ using anything from the TF Layers packages. You **can** still use classes from other packages that happen to have the same name as ones you find in TF Layers! For example, instead of using the TF Layers version of the `conv2d` class, [tf.layers.conv2d](https://www.tensorflow.org/api_docs/python/tf/layers/conv2d), you would want to use the TF Neural Network version of `conv2d`, [tf.nn.conv2d](https://www.tensorflow.org/api_docs/python/tf/nn/conv2d). \n",
    "\n",
    "Let's begin!\n",
    "\n",
    "### Input\n",
    "The neural network needs to read the image data, one-hot encoded labels, and dropout keep probability. Implement the following functions\n",
    "* Implement `neural_net_image_input`\n",
    " * Return a [TF Placeholder](https://www.tensorflow.org/api_docs/python/tf/placeholder)\n",
    " * Set the shape using `image_shape` with batch size set to `None`.\n",
    " * Name the TensorFlow placeholder \"x\" using the TensorFlow `name` parameter in the [TF Placeholder](https://www.tensorflow.org/api_docs/python/tf/placeholder).\n",
    "* Implement `neural_net_label_input`\n",
    " * Return a [TF Placeholder](https://www.tensorflow.org/api_docs/python/tf/placeholder)\n",
    " * Set the shape using `n_classes` with batch size set to `None`.\n",
    " * Name the TensorFlow placeholder \"y\" using the TensorFlow `name` parameter in the [TF Placeholder](https://www.tensorflow.org/api_docs/python/tf/placeholder).\n",
    "* Implement `neural_net_keep_prob_input`\n",
    " * Return a [TF Placeholder](https://www.tensorflow.org/api_docs/python/tf/placeholder) for dropout keep probability.\n",
    " * Name the TensorFlow placeholder \"keep_prob\" using the TensorFlow `name` parameter in the [TF Placeholder](https://www.tensorflow.org/api_docs/python/tf/placeholder).\n",
    "\n",
    "These names will be used at the end of the project to load your saved model.\n",
    "\n",
    "Note: `None` for shapes in TensorFlow allow for a dynamic size."
   ]
  },
  {
   "cell_type": "code",
   "execution_count": 8,
   "metadata": {
    "collapsed": false,
    "deletable": true,
    "editable": true
   },
   "outputs": [
    {
     "name": "stdout",
     "output_type": "stream",
     "text": [
      "Image Input Tests Passed.\n",
      "Label Input Tests Passed.\n",
      "Keep Prob Tests Passed.\n"
     ]
    }
   ],
   "source": [
    "import tensorflow as tf\n",
    "\n",
    "def neural_net_image_input(image_shape):\n",
    "    \"\"\"\n",
    "    Return a Tensor for a batch of image input\n",
    "    : image_shape: Shape of the images\n",
    "    : return: Tensor for image input.\n",
    "    \"\"\"\n",
    "    # TODO: Implement Function\n",
    "    return tf.placeholder(tf.float32, [None, image_shape[0], image_shape[1], image_shape[2]], name='x')\n",
    "\n",
    "\n",
    "def neural_net_label_input(n_classes):\n",
    "    \"\"\"\n",
    "    Return a Tensor for a batch of label input\n",
    "    : n_classes: Number of classes\n",
    "    : return: Tensor for label input.\n",
    "    \"\"\"\n",
    "    # TODO: Implement Function\n",
    "    return tf.placeholder(tf.float32, shape=[None, n_classes], name='y')\n",
    "\n",
    "\n",
    "def neural_net_keep_prob_input():\n",
    "    \"\"\"\n",
    "    Return a Tensor for keep probability\n",
    "    : return: Tensor for keep probability.\n",
    "    \"\"\"\n",
    "    # TODO: Implement Function\n",
    "    return tf.placeholder(tf.float32, name='keep_prob')\n",
    "\n",
    "\n",
    "\"\"\"\n",
    "DON'T MODIFY ANYTHING IN THIS CELL THAT IS BELOW THIS LINE\n",
    "\"\"\"\n",
    "tf.reset_default_graph()\n",
    "tests.test_nn_image_inputs(neural_net_image_input)\n",
    "tests.test_nn_label_inputs(neural_net_label_input)\n",
    "tests.test_nn_keep_prob_inputs(neural_net_keep_prob_input)"
   ]
  },
  {
   "cell_type": "markdown",
   "metadata": {
    "deletable": true,
    "editable": true
   },
   "source": [
    "### Convolution and Max Pooling Layer\n",
    "Convolution layers have a lot of success with images. For this code cell, you should implement the function `conv2d_maxpool` to apply convolution then max pooling:\n",
    "* Create the weight and bias using `conv_ksize`, `conv_num_outputs` and the shape of `x_tensor`.\n",
    "* Apply a convolution to `x_tensor` using weight and `conv_strides`.\n",
    " * We recommend you use same padding, but you're welcome to use any padding.\n",
    "* Add bias\n",
    "* Add a nonlinear activation to the convolution.\n",
    "* Apply Max Pooling using `pool_ksize` and `pool_strides`.\n",
    " * We recommend you use same padding, but you're welcome to use any padding.\n",
    "\n",
    "**Note:** You **can't** use [TensorFlow Layers](https://www.tensorflow.org/api_docs/python/tf/layers) or [TensorFlow Layers (contrib)](https://www.tensorflow.org/api_guides/python/contrib.layers) for **this** layer, but you can still use TensorFlow's [Neural Network](https://www.tensorflow.org/api_docs/python/tf/nn) package. You may still use the shortcut option for all the **other** layers."
   ]
  },
  {
   "cell_type": "code",
   "execution_count": 9,
   "metadata": {
    "collapsed": false,
    "deletable": true,
    "editable": true
   },
   "outputs": [
    {
     "name": "stdout",
     "output_type": "stream",
     "text": [
      "Tests Passed\n"
     ]
    }
   ],
   "source": [
    "def conv2d_maxpool(x_tensor, conv_num_outputs, conv_ksize, conv_strides, pool_ksize, pool_strides):\n",
    "    \"\"\"\n",
    "    Apply convolution then max pooling to x_tensor\n",
    "    :param x_tensor: TensorFlow Tensor\n",
    "    :param conv_num_outputs: Number of outputs for the convolutional layer\n",
    "    :param conv_ksize: kernal size 2-D Tuple for the convolutional layer\n",
    "    :param conv_strides: Stride 2-D Tuple for convolution\n",
    "    :param pool_ksize: kernal size 2-D Tuple for pool\n",
    "    :param pool_strides: Stride 2-D Tuple for pool\n",
    "    : return: A tensor that represents convolution and max pooling of x_tensor\n",
    "    \"\"\"\n",
    "    # TODO: Implement Function\n",
    "    # shape of x_tensor\n",
    "    x_shape = x_tensor.get_shape().as_list()\n",
    "    \n",
    "    # range of weight initialization\n",
    "    weight_range = 1. / np.sqrt(conv_ksize[0]*conv_ksize[1]*x_shape[3])\n",
    "    \n",
    "    # weight\n",
    "    weights = tf.Variable(tf.truncated_normal([conv_ksize[0], \n",
    "                                              conv_ksize[1], \n",
    "                                              x_shape[3], \n",
    "                                              conv_num_outputs], \n",
    "                                             stddev=weight_range))\n",
    "    # bias\n",
    "    bias = tf.Variable(tf.zeros([conv_num_outputs]))\n",
    "    \n",
    "    # convnet\n",
    "    conv = tf.nn.conv2d(x_tensor, \n",
    "                        weights, \n",
    "                        strides=[1, conv_strides[0], conv_strides[1], 1], \n",
    "                        padding='SAME')\n",
    "    conv = tf.nn.bias_add(conv, bias)\n",
    "    conv = tf.nn.relu(conv)\n",
    "    \n",
    "    # pooling\n",
    "    conv = tf.nn.max_pool(conv, \n",
    "                          ksize=[1, pool_ksize[0], pool_ksize[1], 1], \n",
    "                          strides=[1, pool_strides[0], pool_strides[1], 1], \n",
    "                          padding='SAME')\n",
    "    \n",
    "    return conv\n",
    "\n",
    "\n",
    "\"\"\"\n",
    "DON'T MODIFY ANYTHING IN THIS CELL THAT IS BELOW THIS LINE\n",
    "\"\"\"\n",
    "tests.test_con_pool(conv2d_maxpool)"
   ]
  },
  {
   "cell_type": "markdown",
   "metadata": {
    "deletable": true,
    "editable": true
   },
   "source": [
    "### Flatten Layer\n",
    "Implement the `flatten` function to change the dimension of `x_tensor` from a 4-D tensor to a 2-D tensor.  The output should be the shape (*Batch Size*, *Flattened Image Size*). Shortcut option: you can use classes from the [TensorFlow Layers](https://www.tensorflow.org/api_docs/python/tf/layers) or [TensorFlow Layers (contrib)](https://www.tensorflow.org/api_guides/python/contrib.layers) packages for this layer. For more of a challenge, only use other TensorFlow packages."
   ]
  },
  {
   "cell_type": "code",
   "execution_count": 11,
   "metadata": {
    "collapsed": false,
    "deletable": true,
    "editable": true
   },
   "outputs": [
    {
     "name": "stdout",
     "output_type": "stream",
     "text": [
      "Tests Passed\n"
     ]
    }
   ],
   "source": [
    "def flatten(x_tensor):\n",
    "    \"\"\"\n",
    "    Flatten x_tensor to (Batch Size, Flattened Image Size)\n",
    "    : x_tensor: A tensor of size (Batch Size, ...), where ... are the image dimensions.\n",
    "    : return: A tensor of size (Batch Size, Flattened Image Size).\n",
    "    \"\"\"\n",
    "    # TODO: Implement Function\n",
    "    # why the following codes doesn't work?\n",
    "    # 1. \n",
    "    x_shape = x_tensor.get_shape().as_list()\n",
    "    return tf.reshape(x_tensor, [-1, np.prod(x_shape[1:])])\n",
    "    \n",
    "    # 2. \n",
    "    # return tf.reshape(x_tensor, [-1])\n",
    "    \n",
    "    # x_shape = np.array([x_tensor.shape[i].value for i in range(1,4)])\n",
    "    # return tf.reshape(x_tensor, [-1, np.prod(x_shape)])\n",
    "\n",
    "\n",
    "\"\"\"\n",
    "DON'T MODIFY ANYTHING IN THIS CELL THAT IS BELOW THIS LINE\n",
    "\"\"\"\n",
    "tests.test_flatten(flatten)"
   ]
  },
  {
   "cell_type": "markdown",
   "metadata": {
    "deletable": true,
    "editable": true
   },
   "source": [
    "### Fully-Connected Layer\n",
    "Implement the `fully_conn` function to apply a fully connected layer to `x_tensor` with the shape (*Batch Size*, *num_outputs*). Shortcut option: you can use classes from the [TensorFlow Layers](https://www.tensorflow.org/api_docs/python/tf/layers) or [TensorFlow Layers (contrib)](https://www.tensorflow.org/api_guides/python/contrib.layers) packages for this layer. For more of a challenge, only use other TensorFlow packages."
   ]
  },
  {
   "cell_type": "code",
   "execution_count": 13,
   "metadata": {
    "collapsed": false,
    "deletable": true,
    "editable": true
   },
   "outputs": [
    {
     "name": "stdout",
     "output_type": "stream",
     "text": [
      "Tests Passed\n"
     ]
    }
   ],
   "source": [
    "def fully_conn(x_tensor, num_outputs):\n",
    "    \"\"\"\n",
    "    Apply a fully connected layer to x_tensor using weight and bias\n",
    "    : x_tensor: A 2-D tensor where the first dimension is batch size.\n",
    "    : num_outputs: The number of output that the new tensor should be.\n",
    "    : return: A 2-D tensor where the second dimension is num_outputs.\n",
    "    \"\"\"\n",
    "    # TODO: Implement Function\n",
    "    # x_shape = x_tensor.shape[1].value\n",
    "    x_shape = x_tensor.get_shape().as_list()[1]\n",
    "    # range of the weight distribution\n",
    "    weight_range = 1. / np.sqrt(x_shape)\n",
    "    # weight\n",
    "    weights = tf.Variable(tf.truncated_normal([x_shape, num_outputs], stddev = weight_range))\n",
    "    # bias\n",
    "    bias = tf.Variable(tf.zeros(num_outputs))\n",
    "    \n",
    "    return tf.nn.relu(tf.add(tf.matmul(x_tensor, weights), bias))\n",
    "\n",
    "\n",
    "\"\"\"\n",
    "DON'T MODIFY ANYTHING IN THIS CELL THAT IS BELOW THIS LINE\n",
    "\"\"\"\n",
    "tests.test_fully_conn(fully_conn)"
   ]
  },
  {
   "cell_type": "markdown",
   "metadata": {
    "deletable": true,
    "editable": true
   },
   "source": [
    "### Output Layer\n",
    "Implement the `output` function to apply a fully connected layer to `x_tensor` with the shape (*Batch Size*, *num_outputs*). Shortcut option: you can use classes from the [TensorFlow Layers](https://www.tensorflow.org/api_docs/python/tf/layers) or [TensorFlow Layers (contrib)](https://www.tensorflow.org/api_guides/python/contrib.layers) packages for this layer. For more of a challenge, only use other TensorFlow packages.\n",
    "\n",
    "**Note:** Activation, softmax, or cross entropy should **not** be applied to this."
   ]
  },
  {
   "cell_type": "code",
   "execution_count": 14,
   "metadata": {
    "collapsed": false,
    "deletable": true,
    "editable": true
   },
   "outputs": [
    {
     "name": "stdout",
     "output_type": "stream",
     "text": [
      "Tests Passed\n"
     ]
    }
   ],
   "source": [
    "def output(x_tensor, num_outputs):\n",
    "    \"\"\"\n",
    "    Apply a output layer to x_tensor using weight and bias\n",
    "    : x_tensor: A 2-D tensor where the first dimension is batch size.\n",
    "    : num_outputs: The number of output that the new tensor should be.\n",
    "    : return: A 2-D tensor where the second dimension is num_outputs.\n",
    "    \"\"\"\n",
    "    # TODO: Implement Function\n",
    "    x_shape = x_tensor.get_shape().as_list()[1]\n",
    "    \n",
    "    weight_range = 1. / np.sqrt(x_shape)\n",
    "    # weight\n",
    "    weights = tf.Variable(tf.truncated_normal([x_shape, num_outputs], stddev = weight_range))\n",
    "    # bias\n",
    "    bias = tf.Variable(tf.zeros(num_outputs))\n",
    "    \n",
    "    return tf.add(tf.matmul(x_tensor, weights), bias)\n",
    "\n",
    "\n",
    "\"\"\"\n",
    "DON'T MODIFY ANYTHING IN THIS CELL THAT IS BELOW THIS LINE\n",
    "\"\"\"\n",
    "tests.test_output(output)"
   ]
  },
  {
   "cell_type": "markdown",
   "metadata": {
    "deletable": true,
    "editable": true
   },
   "source": [
    "### Create Convolutional Model\n",
    "Implement the function `conv_net` to create a convolutional neural network model. The function takes in a batch of images, `x`, and outputs logits.  Use the layers you created above to create this model:\n",
    "\n",
    "* Apply 1, 2, or 3 Convolution and Max Pool layers\n",
    "* Apply a Flatten Layer\n",
    "* Apply 1, 2, or 3 Fully Connected Layers\n",
    "* Apply an Output Layer\n",
    "* Return the output\n",
    "* Apply [TensorFlow's Dropout](https://www.tensorflow.org/api_docs/python/tf/nn/dropout) to one or more layers in the model using `keep_prob`. "
   ]
  },
  {
   "cell_type": "code",
   "execution_count": 39,
   "metadata": {
    "collapsed": false,
    "deletable": true,
    "editable": true
   },
   "outputs": [
    {
     "name": "stdout",
     "output_type": "stream",
     "text": [
      "Neural Network Built!\n"
     ]
    }
   ],
   "source": [
    "def conv_net(x, keep_prob):\n",
    "    \"\"\"\n",
    "    Create a convolutional neural network model\n",
    "    : x: Placeholder tensor that holds image data.\n",
    "    : keep_prob: Placeholder tensor that hold dropout keep probability.\n",
    "    : return: Tensor that represents logits\n",
    "    \"\"\"\n",
    "    # TODO: Apply 1, 2, or 3 Convolution and Max Pool layers\n",
    "    #    Play around with different number of outputs, kernel size and stride\n",
    "    # Function Definition from Above:\n",
    "    #    conv2d_maxpool(x_tensor, conv_num_outputs, conv_ksize, conv_strides, pool_ksize, pool_strides)\n",
    "    num_conv_layer = 3\n",
    "    # conv_num_outputs = [12, 48, 192]\n",
    "    conv_num_outputs = [16, 64, 256]\n",
    "    conv_ksize = (3, 3)\n",
    "    conv_strides = (1, 1)\n",
    "    pool_ksize = (2, 2)\n",
    "    pool_strides = (2, 2)\n",
    "    for n in range(num_conv_layer):\n",
    "        x = conv2d_maxpool(x, conv_num_outputs[n], conv_ksize, conv_strides, pool_ksize, pool_strides)\n",
    "\n",
    "    # TODO: Apply a Flatten Layer\n",
    "    # Function Definition from Above:\n",
    "    #   flatten(x_tensor)\n",
    "    x = flatten(x)\n",
    "    \n",
    "\n",
    "    # TODO: Apply 1, 2, or 3 Fully Connected Layers\n",
    "    #    Play around with different number of outputs\n",
    "    # Function Definition from Above:\n",
    "    #   fully_conn(x_tensor, num_outputs)\n",
    "    \n",
    "    num_fc = 1\n",
    "    x_shape = x.get_shape().as_list()[1]\n",
    "    d = int((10 - x_shape) / (num_fc + 1))\n",
    "    num_outputs = x_shape + d\n",
    "    for n in range(num_fc):  \n",
    "        x = fully_conn(x, num_outputs)\n",
    "        x = tf.nn.dropout(x, keep_prob)\n",
    "        num_outputs += d\n",
    "    \n",
    "    # TODO: Apply an Output Layer\n",
    "    #    Set this to the number of classes\n",
    "    # Function Definition from Above:\n",
    "    #   output(x_tensor, num_outputs)\n",
    "    \n",
    "    \n",
    "    # TODO: return output\n",
    "    return output(x, 10)\n",
    "\n",
    "\n",
    "\"\"\"\n",
    "DON'T MODIFY ANYTHING IN THIS CELL THAT IS BELOW THIS LINE\n",
    "\"\"\"\n",
    "\n",
    "##############################\n",
    "## Build the Neural Network ##\n",
    "##############################\n",
    "\n",
    "# Remove previous weights, bias, inputs, etc..\n",
    "tf.reset_default_graph()\n",
    "\n",
    "# Inputs\n",
    "x = neural_net_image_input((32, 32, 3))\n",
    "y = neural_net_label_input(10)\n",
    "keep_prob = neural_net_keep_prob_input()\n",
    "\n",
    "# Model\n",
    "logits = conv_net(x, keep_prob)\n",
    "\n",
    "# Name logits Tensor, so that is can be loaded from disk after training\n",
    "logits = tf.identity(logits, name='logits')\n",
    "\n",
    "# Loss and Optimizer\n",
    "cost = tf.reduce_mean(tf.nn.softmax_cross_entropy_with_logits(logits=logits, labels=y))\n",
    "optimizer = tf.train.AdamOptimizer().minimize(cost)\n",
    "\n",
    "# Accuracy\n",
    "correct_pred = tf.equal(tf.argmax(logits, 1), tf.argmax(y, 1))\n",
    "accuracy = tf.reduce_mean(tf.cast(correct_pred, tf.float32), name='accuracy')\n",
    "\n",
    "tests.test_conv_net(conv_net)"
   ]
  },
  {
   "cell_type": "markdown",
   "metadata": {
    "deletable": true,
    "editable": true
   },
   "source": [
    "## Train the Neural Network\n",
    "### Single Optimization\n",
    "Implement the function `train_neural_network` to do a single optimization.  The optimization should use `optimizer` to optimize in `session` with a `feed_dict` of the following:\n",
    "* `x` for image input\n",
    "* `y` for labels\n",
    "* `keep_prob` for keep probability for dropout\n",
    "\n",
    "This function will be called for each batch, so `tf.global_variables_initializer()` has already been called.\n",
    "\n",
    "Note: Nothing needs to be returned. This function is only optimizing the neural network."
   ]
  },
  {
   "cell_type": "code",
   "execution_count": 18,
   "metadata": {
    "collapsed": false,
    "deletable": true,
    "editable": true
   },
   "outputs": [
    {
     "name": "stdout",
     "output_type": "stream",
     "text": [
      "Tests Passed\n"
     ]
    }
   ],
   "source": [
    "def train_neural_network(session, optimizer, keep_probability, feature_batch, label_batch):\n",
    "    \"\"\"\n",
    "    Optimize the session on a batch of images and labels\n",
    "    : session: Current TensorFlow session\n",
    "    : optimizer: TensorFlow optimizer function\n",
    "    : keep_probability: keep probability\n",
    "    : feature_batch: Batch of Numpy image data\n",
    "    : label_batch: Batch of Numpy label data\n",
    "    \"\"\"\n",
    "    # TODO: Implement Function\n",
    "    session.run(optimizer, feed_dict={x: feature_batch, y: label_batch, keep_prob: keep_probability})\n",
    "\n",
    "\n",
    "\"\"\"\n",
    "DON'T MODIFY ANYTHING IN THIS CELL THAT IS BELOW THIS LINE\n",
    "\"\"\"\n",
    "tests.test_train_nn(train_neural_network)"
   ]
  },
  {
   "cell_type": "markdown",
   "metadata": {
    "deletable": true,
    "editable": true
   },
   "source": [
    "### Show Stats\n",
    "Implement the function `print_stats` to print loss and validation accuracy.  Use the global variables `valid_features` and `valid_labels` to calculate validation accuracy.  Use a keep probability of `1.0` to calculate the loss and validation accuracy."
   ]
  },
  {
   "cell_type": "code",
   "execution_count": 19,
   "metadata": {
    "collapsed": false,
    "deletable": true,
    "editable": true
   },
   "outputs": [],
   "source": [
    "def print_stats(session, feature_batch, label_batch, cost, accuracy):\n",
    "    \"\"\"\n",
    "    Print information about loss and validation accuracy\n",
    "    : session: Current TensorFlow session\n",
    "    : feature_batch: Batch of Numpy image data\n",
    "    : label_batch: Batch of Numpy label data\n",
    "    : cost: TensorFlow cost function\n",
    "    : accuracy: TensorFlow accuracy function\n",
    "    \"\"\"\n",
    "    # TODO: Implement Function\n",
    "    loss = session.run(cost, feed_dict = {x: feature_batch, y: label_batch, keep_prob: 1.0})\n",
    "    valid_acc = session.run(accuracy, feed_dict = {x: valid_features, y: valid_labels, keep_prob: 1.0})\n",
    "    print('Loss: {}, Validation Accuracy: {}'.format(loss, valid_acc))"
   ]
  },
  {
   "cell_type": "markdown",
   "metadata": {
    "deletable": true,
    "editable": true
   },
   "source": [
    "### Hyperparameters\n",
    "Tune the following parameters:\n",
    "* Set `epochs` to the number of iterations until the network stops learning or start overfitting\n",
    "* Set `batch_size` to the highest number that your machine has memory for.  Most people set them to common sizes of memory:\n",
    " * 64\n",
    " * 128\n",
    " * 256\n",
    " * ...\n",
    "* Set `keep_probability` to the probability of keeping a node using dropout"
   ]
  },
  {
   "cell_type": "code",
   "execution_count": 25,
   "metadata": {
    "collapsed": true,
    "deletable": true,
    "editable": true
   },
   "outputs": [],
   "source": [
    "# TODO: Tune Parameters\n",
    "epochs = 30\n",
    "batch_size = 128\n",
    "keep_probability = 0.5"
   ]
  },
  {
   "cell_type": "markdown",
   "metadata": {
    "deletable": true,
    "editable": true
   },
   "source": [
    "### Train on a Single CIFAR-10 Batch\n",
    "Instead of training the neural network on all the CIFAR-10 batches of data, let's use a single batch. This should save time while you iterate on the model to get a better accuracy.  Once the final validation accuracy is 50% or greater, run the model on all the data in the next section."
   ]
  },
  {
   "cell_type": "code",
   "execution_count": 40,
   "metadata": {
    "collapsed": false,
    "deletable": true,
    "editable": true
   },
   "outputs": [
    {
     "name": "stdout",
     "output_type": "stream",
     "text": [
      "Checking the Training on a Single Batch...\n",
      "Epoch  1, CIFAR-10 Batch 1:  Loss: 1.9442503452301025, Validation Accuracy: 0.3563999831676483\n",
      "Epoch  2, CIFAR-10 Batch 1:  Loss: 1.6151973009109497, Validation Accuracy: 0.4519999623298645\n",
      "Epoch  3, CIFAR-10 Batch 1:  Loss: 1.3471559286117554, Validation Accuracy: 0.48499995470046997\n",
      "Epoch  4, CIFAR-10 Batch 1:  Loss: 1.1538351774215698, Validation Accuracy: 0.5281999111175537\n",
      "Epoch  5, CIFAR-10 Batch 1:  Loss: 0.9734774827957153, Validation Accuracy: 0.5587999224662781\n",
      "Epoch  6, CIFAR-10 Batch 1:  Loss: 0.8446558713912964, Validation Accuracy: 0.5717999339103699\n",
      "Epoch  7, CIFAR-10 Batch 1:  Loss: 0.6726737022399902, Validation Accuracy: 0.556399941444397\n",
      "Epoch  8, CIFAR-10 Batch 1:  Loss: 0.5633428692817688, Validation Accuracy: 0.5600000023841858\n",
      "Epoch  9, CIFAR-10 Batch 1:  Loss: 0.44728606939315796, Validation Accuracy: 0.605199933052063\n",
      "Epoch 10, CIFAR-10 Batch 1:  Loss: 0.3031502068042755, Validation Accuracy: 0.6151999235153198\n",
      "Epoch 11, CIFAR-10 Batch 1:  Loss: 0.23062023520469666, Validation Accuracy: 0.6139999032020569\n",
      "Epoch 12, CIFAR-10 Batch 1:  Loss: 0.1348615437746048, Validation Accuracy: 0.5875998735427856\n",
      "Epoch 13, CIFAR-10 Batch 1:  Loss: 0.12162704765796661, Validation Accuracy: 0.5841999053955078\n",
      "Epoch 14, CIFAR-10 Batch 1:  Loss: 0.10076567530632019, Validation Accuracy: 0.5921999216079712\n",
      "Epoch 15, CIFAR-10 Batch 1:  Loss: 0.07056470215320587, Validation Accuracy: 0.5743998885154724\n",
      "Epoch 16, CIFAR-10 Batch 1:  Loss: 0.0460115410387516, Validation Accuracy: 0.589199960231781\n",
      "Epoch 17, CIFAR-10 Batch 1:  Loss: 0.04766938090324402, Validation Accuracy: 0.5953999161720276\n",
      "Epoch 18, CIFAR-10 Batch 1:  Loss: 0.017642993479967117, Validation Accuracy: 0.601599931716919\n",
      "Epoch 19, CIFAR-10 Batch 1:  Loss: 0.02126923017203808, Validation Accuracy: 0.5957999229431152\n",
      "Epoch 20, CIFAR-10 Batch 1:  Loss: 0.018807444721460342, Validation Accuracy: 0.6101999282836914\n",
      "Epoch 21, CIFAR-10 Batch 1:  Loss: 0.01420425996184349, Validation Accuracy: 0.6097999215126038\n",
      "Epoch 22, CIFAR-10 Batch 1:  Loss: 0.010639814659953117, Validation Accuracy: 0.6095999479293823\n",
      "Epoch 23, CIFAR-10 Batch 1:  Loss: 0.00995056051760912, Validation Accuracy: 0.5973999500274658\n",
      "Epoch 24, CIFAR-10 Batch 1:  Loss: 0.004819870926439762, Validation Accuracy: 0.6013998985290527\n",
      "Epoch 25, CIFAR-10 Batch 1:  Loss: 0.0045126089826226234, Validation Accuracy: 0.6007999181747437\n",
      "Epoch 26, CIFAR-10 Batch 1:  Loss: 0.006524396128952503, Validation Accuracy: 0.602199912071228\n",
      "Epoch 27, CIFAR-10 Batch 1:  Loss: 0.006277185864746571, Validation Accuracy: 0.6123999953269958\n",
      "Epoch 28, CIFAR-10 Batch 1:  Loss: 0.004945393186062574, Validation Accuracy: 0.6103999018669128\n",
      "Epoch 29, CIFAR-10 Batch 1:  Loss: 0.0028286543674767017, Validation Accuracy: 0.6201999187469482\n",
      "Epoch 30, CIFAR-10 Batch 1:  Loss: 0.0016796934651210904, Validation Accuracy: 0.6185998916625977\n"
     ]
    }
   ],
   "source": [
    "\"\"\"\n",
    "DON'T MODIFY ANYTHING IN THIS CELL\n",
    "\"\"\"\n",
    "print('Checking the Training on a Single Batch...')\n",
    "with tf.Session() as sess:\n",
    "    # Initializing the variables\n",
    "    sess.run(tf.global_variables_initializer())\n",
    "    \n",
    "    # Training cycle\n",
    "    for epoch in range(epochs):\n",
    "        batch_i = 1\n",
    "        for batch_features, batch_labels in helper.load_preprocess_training_batch(batch_i, batch_size):\n",
    "            train_neural_network(sess, optimizer, keep_probability, batch_features, batch_labels)\n",
    "        print('Epoch {:>2}, CIFAR-10 Batch {}:  '.format(epoch + 1, batch_i), end='')\n",
    "        print_stats(sess, batch_features, batch_labels, cost, accuracy)"
   ]
  },
  {
   "cell_type": "markdown",
   "metadata": {
    "deletable": true,
    "editable": true
   },
   "source": [
    "### Fully Train the Model\n",
    "Now that you got a good accuracy with a single CIFAR-10 batch, try it with all five batches."
   ]
  },
  {
   "cell_type": "code",
   "execution_count": 41,
   "metadata": {
    "collapsed": false,
    "deletable": true,
    "editable": true
   },
   "outputs": [
    {
     "name": "stdout",
     "output_type": "stream",
     "text": [
      "Training...\n",
      "Epoch  1, CIFAR-10 Batch 1:  Loss: 1.8980669975280762, Validation Accuracy: 0.4147999584674835\n",
      "Epoch  1, CIFAR-10 Batch 2:  Loss: 1.485856294631958, Validation Accuracy: 0.45159995555877686\n",
      "Epoch  1, CIFAR-10 Batch 3:  Loss: 1.1502079963684082, Validation Accuracy: 0.5205999612808228\n",
      "Epoch  1, CIFAR-10 Batch 4:  Loss: 1.1839027404785156, Validation Accuracy: 0.5765999555587769\n",
      "Epoch  1, CIFAR-10 Batch 5:  Loss: 1.1733200550079346, Validation Accuracy: 0.5979998707771301\n",
      "Epoch  2, CIFAR-10 Batch 1:  Loss: 1.1019917726516724, Validation Accuracy: 0.6093998551368713\n",
      "Epoch  2, CIFAR-10 Batch 2:  Loss: 0.9843600988388062, Validation Accuracy: 0.5949999094009399\n",
      "Epoch  2, CIFAR-10 Batch 3:  Loss: 0.6959006786346436, Validation Accuracy: 0.6497999429702759\n",
      "Epoch  2, CIFAR-10 Batch 4:  Loss: 0.7923595905303955, Validation Accuracy: 0.658599853515625\n",
      "Epoch  2, CIFAR-10 Batch 5:  Loss: 0.6383169889450073, Validation Accuracy: 0.6733998656272888\n",
      "Epoch  3, CIFAR-10 Batch 1:  Loss: 0.7355133295059204, Validation Accuracy: 0.674799919128418\n",
      "Epoch  3, CIFAR-10 Batch 2:  Loss: 0.5217297077178955, Validation Accuracy: 0.6785998344421387\n",
      "Epoch  3, CIFAR-10 Batch 3:  Loss: 0.40150195360183716, Validation Accuracy: 0.6881998777389526\n",
      "Epoch  3, CIFAR-10 Batch 4:  Loss: 0.530694842338562, Validation Accuracy: 0.6899998784065247\n",
      "Epoch  3, CIFAR-10 Batch 5:  Loss: 0.39512625336647034, Validation Accuracy: 0.6915999054908752\n",
      "Epoch  4, CIFAR-10 Batch 1:  Loss: 0.45305532217025757, Validation Accuracy: 0.70579993724823\n",
      "Epoch  4, CIFAR-10 Batch 2:  Loss: 0.33480337262153625, Validation Accuracy: 0.7153999209403992\n",
      "Epoch  4, CIFAR-10 Batch 3:  Loss: 0.21974502503871918, Validation Accuracy: 0.7035998702049255\n",
      "Epoch  4, CIFAR-10 Batch 4:  Loss: 0.3195028305053711, Validation Accuracy: 0.7171998620033264\n",
      "Epoch  4, CIFAR-10 Batch 5:  Loss: 0.30953943729400635, Validation Accuracy: 0.6979997754096985\n",
      "Epoch  5, CIFAR-10 Batch 1:  Loss: 0.28635770082473755, Validation Accuracy: 0.7059999108314514\n",
      "Epoch  5, CIFAR-10 Batch 2:  Loss: 0.21442721784114838, Validation Accuracy: 0.7113998532295227\n",
      "Epoch  5, CIFAR-10 Batch 3:  Loss: 0.19622212648391724, Validation Accuracy: 0.707399845123291\n",
      "Epoch  5, CIFAR-10 Batch 4:  Loss: 0.19763080775737762, Validation Accuracy: 0.7219997644424438\n",
      "Epoch  5, CIFAR-10 Batch 5:  Loss: 0.1955275684595108, Validation Accuracy: 0.7297998666763306\n",
      "Epoch  6, CIFAR-10 Batch 1:  Loss: 0.18632563948631287, Validation Accuracy: 0.7127999067306519\n",
      "Epoch  6, CIFAR-10 Batch 2:  Loss: 0.12385046482086182, Validation Accuracy: 0.7079998850822449\n",
      "Epoch  6, CIFAR-10 Batch 3:  Loss: 0.10462851077318192, Validation Accuracy: 0.715199887752533\n",
      "Epoch  6, CIFAR-10 Batch 4:  Loss: 0.17957869172096252, Validation Accuracy: 0.7267998456954956\n",
      "Epoch  6, CIFAR-10 Batch 5:  Loss: 0.14037883281707764, Validation Accuracy: 0.7425998449325562\n",
      "Epoch  7, CIFAR-10 Batch 1:  Loss: 0.09950272738933563, Validation Accuracy: 0.7287998199462891\n",
      "Epoch  7, CIFAR-10 Batch 2:  Loss: 0.06549549847841263, Validation Accuracy: 0.7061998844146729\n",
      "Epoch  7, CIFAR-10 Batch 3:  Loss: 0.06032707542181015, Validation Accuracy: 0.7461998462677002\n",
      "Epoch  7, CIFAR-10 Batch 4:  Loss: 0.11006046831607819, Validation Accuracy: 0.7293998003005981\n",
      "Epoch  7, CIFAR-10 Batch 5:  Loss: 0.09428416192531586, Validation Accuracy: 0.723399817943573\n",
      "Epoch  8, CIFAR-10 Batch 1:  Loss: 0.05395595356822014, Validation Accuracy: 0.72819983959198\n",
      "Epoch  8, CIFAR-10 Batch 2:  Loss: 0.04614013433456421, Validation Accuracy: 0.7173998355865479\n",
      "Epoch  8, CIFAR-10 Batch 3:  Loss: 0.03980780020356178, Validation Accuracy: 0.740199863910675\n",
      "Epoch  8, CIFAR-10 Batch 4:  Loss: 0.06283286213874817, Validation Accuracy: 0.7201998829841614\n",
      "Epoch  8, CIFAR-10 Batch 5:  Loss: 0.060082901269197464, Validation Accuracy: 0.7131998538970947\n",
      "Epoch  9, CIFAR-10 Batch 1:  Loss: 0.033010322600603104, Validation Accuracy: 0.7339998483657837\n",
      "Epoch  9, CIFAR-10 Batch 2:  Loss: 0.03567205369472504, Validation Accuracy: 0.7259998321533203\n",
      "Epoch  9, CIFAR-10 Batch 3:  Loss: 0.02812298759818077, Validation Accuracy: 0.7335999011993408\n",
      "Epoch  9, CIFAR-10 Batch 4:  Loss: 0.0373460091650486, Validation Accuracy: 0.7271997928619385\n",
      "Epoch  9, CIFAR-10 Batch 5:  Loss: 0.03447096049785614, Validation Accuracy: 0.7163997888565063\n",
      "Epoch 10, CIFAR-10 Batch 1:  Loss: 0.01785539835691452, Validation Accuracy: 0.7397998571395874\n",
      "Epoch 10, CIFAR-10 Batch 2:  Loss: 0.020396247506141663, Validation Accuracy: 0.7135998010635376\n",
      "Epoch 10, CIFAR-10 Batch 3:  Loss: 0.01537525374442339, Validation Accuracy: 0.7421998977661133\n",
      "Epoch 10, CIFAR-10 Batch 4:  Loss: 0.022017570212483406, Validation Accuracy: 0.7303998470306396\n",
      "Epoch 10, CIFAR-10 Batch 5:  Loss: 0.027547594159841537, Validation Accuracy: 0.7269998788833618\n",
      "Epoch 11, CIFAR-10 Batch 1:  Loss: 0.01729176752269268, Validation Accuracy: 0.7395998239517212\n",
      "Epoch 11, CIFAR-10 Batch 2:  Loss: 0.009054078720510006, Validation Accuracy: 0.7381998300552368\n",
      "Epoch 11, CIFAR-10 Batch 3:  Loss: 0.015328289940953255, Validation Accuracy: 0.7175998091697693\n",
      "Epoch 11, CIFAR-10 Batch 4:  Loss: 0.017774458974599838, Validation Accuracy: 0.7293999195098877\n",
      "Epoch 11, CIFAR-10 Batch 5:  Loss: 0.01230320893228054, Validation Accuracy: 0.7259998917579651\n",
      "Epoch 12, CIFAR-10 Batch 1:  Loss: 0.014672008343040943, Validation Accuracy: 0.7357999086380005\n",
      "Epoch 12, CIFAR-10 Batch 2:  Loss: 0.005182609427720308, Validation Accuracy: 0.736599862575531\n",
      "Epoch 12, CIFAR-10 Batch 3:  Loss: 0.005075179040431976, Validation Accuracy: 0.7331998944282532\n",
      "Epoch 12, CIFAR-10 Batch 4:  Loss: 0.011730669066309929, Validation Accuracy: 0.7369998693466187\n",
      "Epoch 12, CIFAR-10 Batch 5:  Loss: 0.005644102580845356, Validation Accuracy: 0.7443998456001282\n",
      "Epoch 13, CIFAR-10 Batch 1:  Loss: 0.01356563437730074, Validation Accuracy: 0.7451998591423035\n",
      "Epoch 13, CIFAR-10 Batch 2:  Loss: 0.004963987972587347, Validation Accuracy: 0.7323998212814331\n",
      "Epoch 13, CIFAR-10 Batch 3:  Loss: 0.002276509301736951, Validation Accuracy: 0.7407998442649841\n",
      "Epoch 13, CIFAR-10 Batch 4:  Loss: 0.02139369770884514, Validation Accuracy: 0.7279998064041138\n",
      "Epoch 13, CIFAR-10 Batch 5:  Loss: 0.004005389288067818, Validation Accuracy: 0.7355998754501343\n",
      "Epoch 14, CIFAR-10 Batch 1:  Loss: 0.004668891429901123, Validation Accuracy: 0.7479998469352722\n",
      "Epoch 14, CIFAR-10 Batch 2:  Loss: 0.008759032934904099, Validation Accuracy: 0.7323999404907227\n",
      "Epoch 14, CIFAR-10 Batch 3:  Loss: 0.0035702185705304146, Validation Accuracy: 0.7381998300552368\n",
      "Epoch 14, CIFAR-10 Batch 4:  Loss: 0.012200317345559597, Validation Accuracy: 0.7369998097419739\n",
      "Epoch 14, CIFAR-10 Batch 5:  Loss: 0.013493121601641178, Validation Accuracy: 0.7417998313903809\n",
      "Epoch 15, CIFAR-10 Batch 1:  Loss: 0.005362616386264563, Validation Accuracy: 0.7331998348236084\n",
      "Epoch 15, CIFAR-10 Batch 2:  Loss: 0.008749156259000301, Validation Accuracy: 0.726999819278717\n",
      "Epoch 15, CIFAR-10 Batch 3:  Loss: 0.0021970076486468315, Validation Accuracy: 0.7403998374938965\n",
      "Epoch 15, CIFAR-10 Batch 4:  Loss: 0.005400748923420906, Validation Accuracy: 0.7433998584747314\n",
      "Epoch 15, CIFAR-10 Batch 5:  Loss: 0.0009639612399041653, Validation Accuracy: 0.7381998896598816\n",
      "Epoch 16, CIFAR-10 Batch 1:  Loss: 0.0012542989570647478, Validation Accuracy: 0.7469998002052307\n",
      "Epoch 16, CIFAR-10 Batch 2:  Loss: 0.002224620431661606, Validation Accuracy: 0.738399863243103\n",
      "Epoch 16, CIFAR-10 Batch 3:  Loss: 0.007849887013435364, Validation Accuracy: 0.7499998211860657\n",
      "Epoch 16, CIFAR-10 Batch 4:  Loss: 0.0037441335152834654, Validation Accuracy: 0.7401998043060303\n",
      "Epoch 16, CIFAR-10 Batch 5:  Loss: 0.0024992837570607662, Validation Accuracy: 0.7443998456001282\n",
      "Epoch 17, CIFAR-10 Batch 1:  Loss: 0.001128541654907167, Validation Accuracy: 0.745999813079834\n",
      "Epoch 17, CIFAR-10 Batch 2:  Loss: 0.001919969916343689, Validation Accuracy: 0.7325998544692993\n",
      "Epoch 17, CIFAR-10 Batch 3:  Loss: 0.005543148145079613, Validation Accuracy: 0.7331998348236084\n",
      "Epoch 17, CIFAR-10 Batch 4:  Loss: 0.0017347232205793262, Validation Accuracy: 0.7383998036384583\n",
      "Epoch 17, CIFAR-10 Batch 5:  Loss: 0.0005712585407309234, Validation Accuracy: 0.7363998889923096\n",
      "Epoch 18, CIFAR-10 Batch 1:  Loss: 0.0010183841222897172, Validation Accuracy: 0.7461998462677002\n",
      "Epoch 18, CIFAR-10 Batch 2:  Loss: 0.002886725589632988, Validation Accuracy: 0.7391998767852783\n",
      "Epoch 18, CIFAR-10 Batch 3:  Loss: 0.002069524023681879, Validation Accuracy: 0.7439998388290405\n",
      "Epoch 18, CIFAR-10 Batch 4:  Loss: 0.005148516036570072, Validation Accuracy: 0.7393998503684998\n",
      "Epoch 18, CIFAR-10 Batch 5:  Loss: 0.0003486604255158454, Validation Accuracy: 0.7513998746871948\n",
      "Epoch 19, CIFAR-10 Batch 1:  Loss: 0.0033109313808381557, Validation Accuracy: 0.7317997813224792\n",
      "Epoch 19, CIFAR-10 Batch 2:  Loss: 0.0006294838385656476, Validation Accuracy: 0.7471998929977417\n",
      "Epoch 19, CIFAR-10 Batch 3:  Loss: 0.0008178575662896037, Validation Accuracy: 0.7515998482704163\n",
      "Epoch 19, CIFAR-10 Batch 4:  Loss: 0.0038693114183843136, Validation Accuracy: 0.7371998429298401\n",
      "Epoch 19, CIFAR-10 Batch 5:  Loss: 0.0013864177744835615, Validation Accuracy: 0.7485998868942261\n",
      "Epoch 20, CIFAR-10 Batch 1:  Loss: 0.000499459623824805, Validation Accuracy: 0.7285999059677124\n",
      "Epoch 20, CIFAR-10 Batch 2:  Loss: 0.0029373769648373127, Validation Accuracy: 0.7277998924255371\n",
      "Epoch 20, CIFAR-10 Batch 3:  Loss: 0.0005322670913301408, Validation Accuracy: 0.7313997745513916\n",
      "Epoch 20, CIFAR-10 Batch 4:  Loss: 0.007585879880934954, Validation Accuracy: 0.7497997879981995\n",
      "Epoch 20, CIFAR-10 Batch 5:  Loss: 0.0010724568273872137, Validation Accuracy: 0.7453998327255249\n",
      "Epoch 21, CIFAR-10 Batch 1:  Loss: 0.004504994954913855, Validation Accuracy: 0.7209998965263367\n",
      "Epoch 21, CIFAR-10 Batch 2:  Loss: 0.0033275135792791843, Validation Accuracy: 0.7371997833251953\n",
      "Epoch 21, CIFAR-10 Batch 3:  Loss: 0.0004889950505457819, Validation Accuracy: 0.746799886226654\n",
      "Epoch 21, CIFAR-10 Batch 4:  Loss: 0.00099682598374784, Validation Accuracy: 0.7295998334884644\n",
      "Epoch 21, CIFAR-10 Batch 5:  Loss: 0.0016142934327945113, Validation Accuracy: 0.7371999025344849\n",
      "Epoch 22, CIFAR-10 Batch 1:  Loss: 0.0021643699146807194, Validation Accuracy: 0.7491998076438904\n",
      "Epoch 22, CIFAR-10 Batch 2:  Loss: 0.0012091395910829306, Validation Accuracy: 0.7429998517036438\n",
      "Epoch 22, CIFAR-10 Batch 3:  Loss: 0.0005812386516481638, Validation Accuracy: 0.7433998584747314\n",
      "Epoch 22, CIFAR-10 Batch 4:  Loss: 0.001680104061961174, Validation Accuracy: 0.7341998219490051\n",
      "Epoch 22, CIFAR-10 Batch 5:  Loss: 0.0004041059873998165, Validation Accuracy: 0.7515997886657715\n",
      "Epoch 23, CIFAR-10 Batch 1:  Loss: 0.0005345117533579469, Validation Accuracy: 0.7275998592376709\n",
      "Epoch 23, CIFAR-10 Batch 2:  Loss: 0.0005167304188944399, Validation Accuracy: 0.7437998652458191\n",
      "Epoch 23, CIFAR-10 Batch 3:  Loss: 0.0003145584196317941, Validation Accuracy: 0.745999813079834\n",
      "Epoch 23, CIFAR-10 Batch 4:  Loss: 0.00040782190626487136, Validation Accuracy: 0.7347999215126038\n",
      "Epoch 23, CIFAR-10 Batch 5:  Loss: 0.0012150300899520516, Validation Accuracy: 0.7503998279571533\n",
      "Epoch 24, CIFAR-10 Batch 1:  Loss: 0.0012166239321231842, Validation Accuracy: 0.7367998957633972\n",
      "Epoch 24, CIFAR-10 Batch 2:  Loss: 0.007388352882117033, Validation Accuracy: 0.7501997947692871\n",
      "Epoch 24, CIFAR-10 Batch 3:  Loss: 0.000620759732555598, Validation Accuracy: 0.7455998063087463\n",
      "Epoch 24, CIFAR-10 Batch 4:  Loss: 0.002991524524986744, Validation Accuracy: 0.7389997839927673\n",
      "Epoch 24, CIFAR-10 Batch 5:  Loss: 0.00019840389722958207, Validation Accuracy: 0.7547998428344727\n",
      "Epoch 25, CIFAR-10 Batch 1:  Loss: 0.00098309142049402, Validation Accuracy: 0.7461998462677002\n",
      "Epoch 25, CIFAR-10 Batch 2:  Loss: 0.0002519505796954036, Validation Accuracy: 0.7505998015403748\n",
      "Epoch 25, CIFAR-10 Batch 3:  Loss: 0.0008706576772965491, Validation Accuracy: 0.7517998218536377\n",
      "Epoch 25, CIFAR-10 Batch 4:  Loss: 0.00043723182170651853, Validation Accuracy: 0.7463998198509216\n",
      "Epoch 25, CIFAR-10 Batch 5:  Loss: 0.0008654511184431612, Validation Accuracy: 0.7449998259544373\n",
      "Epoch 26, CIFAR-10 Batch 1:  Loss: 0.006583475507795811, Validation Accuracy: 0.7417998313903809\n",
      "Epoch 26, CIFAR-10 Batch 2:  Loss: 0.0003873193636536598, Validation Accuracy: 0.7343998551368713\n",
      "Epoch 26, CIFAR-10 Batch 3:  Loss: 0.0008685683133080602, Validation Accuracy: 0.7363998889923096\n",
      "Epoch 26, CIFAR-10 Batch 4:  Loss: 0.0015349758323282003, Validation Accuracy: 0.745999813079834\n",
      "Epoch 26, CIFAR-10 Batch 5:  Loss: 0.0006776942173019052, Validation Accuracy: 0.7415997982025146\n",
      "Epoch 27, CIFAR-10 Batch 1:  Loss: 0.0005815489566884935, Validation Accuracy: 0.7519998550415039\n",
      "Epoch 27, CIFAR-10 Batch 2:  Loss: 0.00046867228229530156, Validation Accuracy: 0.7515998482704163\n",
      "Epoch 27, CIFAR-10 Batch 3:  Loss: 0.00048155288095586, Validation Accuracy: 0.7419998645782471\n",
      "Epoch 27, CIFAR-10 Batch 4:  Loss: 0.0015369493048638105, Validation Accuracy: 0.7437998652458191\n",
      "Epoch 27, CIFAR-10 Batch 5:  Loss: 0.005072252359241247, Validation Accuracy: 0.7403998970985413\n",
      "Epoch 28, CIFAR-10 Batch 1:  Loss: 0.0004731495282612741, Validation Accuracy: 0.7443999648094177\n",
      "Epoch 28, CIFAR-10 Batch 2:  Loss: 0.0019485859666019678, Validation Accuracy: 0.7469998002052307\n",
      "Epoch 28, CIFAR-10 Batch 3:  Loss: 0.0002803016686812043, Validation Accuracy: 0.7407999038696289\n",
      "Epoch 28, CIFAR-10 Batch 4:  Loss: 0.000482053350424394, Validation Accuracy: 0.7331998348236084\n",
      "Epoch 28, CIFAR-10 Batch 5:  Loss: 0.0007302992162294686, Validation Accuracy: 0.7473999261856079\n",
      "Epoch 29, CIFAR-10 Batch 1:  Loss: 0.00014221161836758256, Validation Accuracy: 0.7443997859954834\n",
      "Epoch 29, CIFAR-10 Batch 2:  Loss: 0.00019857953884638846, Validation Accuracy: 0.7493997812271118\n",
      "Epoch 29, CIFAR-10 Batch 3:  Loss: 0.0008493183413520455, Validation Accuracy: 0.7461998462677002\n",
      "Epoch 29, CIFAR-10 Batch 4:  Loss: 0.0007320448639802635, Validation Accuracy: 0.7321998476982117\n",
      "Epoch 29, CIFAR-10 Batch 5:  Loss: 0.0001412432611687109, Validation Accuracy: 0.7527998089790344\n",
      "Epoch 30, CIFAR-10 Batch 1:  Loss: 0.00012907583732157946, Validation Accuracy: 0.7445998191833496\n",
      "Epoch 30, CIFAR-10 Batch 2:  Loss: 0.00017721469339448959, Validation Accuracy: 0.7397997975349426\n",
      "Epoch 30, CIFAR-10 Batch 3:  Loss: 6.82856552884914e-05, Validation Accuracy: 0.7425998449325562\n",
      "Epoch 30, CIFAR-10 Batch 4:  Loss: 0.0020391105208545923, Validation Accuracy: 0.7403998374938965\n",
      "Epoch 30, CIFAR-10 Batch 5:  Loss: 0.0002738282782956958, Validation Accuracy: 0.7473998069763184\n"
     ]
    }
   ],
   "source": [
    "\"\"\"\n",
    "DON'T MODIFY ANYTHING IN THIS CELL\n",
    "\"\"\"\n",
    "save_model_path = './image_classification'\n",
    "\n",
    "print('Training...')\n",
    "with tf.Session() as sess:\n",
    "    # Initializing the variables\n",
    "    sess.run(tf.global_variables_initializer())\n",
    "    \n",
    "    # Training cycle\n",
    "    for epoch in range(epochs):\n",
    "        # Loop over all batches\n",
    "        n_batches = 5\n",
    "        for batch_i in range(1, n_batches + 1):\n",
    "            for batch_features, batch_labels in helper.load_preprocess_training_batch(batch_i, batch_size):\n",
    "                train_neural_network(sess, optimizer, keep_probability, batch_features, batch_labels)\n",
    "            print('Epoch {:>2}, CIFAR-10 Batch {}:  '.format(epoch + 1, batch_i), end='')\n",
    "            print_stats(sess, batch_features, batch_labels, cost, accuracy)\n",
    "            \n",
    "    # Save Model\n",
    "    saver = tf.train.Saver()\n",
    "    save_path = saver.save(sess, save_model_path)"
   ]
  },
  {
   "cell_type": "markdown",
   "metadata": {
    "deletable": true,
    "editable": true
   },
   "source": [
    "# Checkpoint\n",
    "The model has been saved to disk.\n",
    "## Test Model\n",
    "Test your model against the test dataset.  This will be your final accuracy. You should have an accuracy greater than 50%. If you don't, keep tweaking the model architecture and parameters."
   ]
  },
  {
   "cell_type": "code",
   "execution_count": 42,
   "metadata": {
    "collapsed": false,
    "deletable": true,
    "editable": true
   },
   "outputs": [
    {
     "name": "stdout",
     "output_type": "stream",
     "text": [
      "Testing Accuracy: 0.7427808544303798\n",
      "\n"
     ]
    },
    {
     "data": {
      "image/png": "[encoded data removed]",
      "text/plain": [
       "<matplotlib.figure.Figure at 0x7fc54425c6a0>"
      ]
     },
     "metadata": {
      "image/png": {
       "height": 319,
       "width": 355
      }
     },
     "output_type": "display_data"
    }
   ],
   "source": [
    "\"\"\"\n",
    "DON'T MODIFY ANYTHING IN THIS CELL\n",
    "\"\"\"\n",
    "%matplotlib inline\n",
    "%config InlineBackend.figure_format = 'retina'\n",
    "\n",
    "import tensorflow as tf\n",
    "import pickle\n",
    "import helper\n",
    "import random\n",
    "\n",
    "# Set batch size if not already set\n",
    "try:\n",
    "    if batch_size:\n",
    "        pass\n",
    "except NameError:\n",
    "    batch_size = 64\n",
    "\n",
    "save_model_path = './image_classification'\n",
    "n_samples = 4\n",
    "top_n_predictions = 3\n",
    "\n",
    "def test_model():\n",
    "    \"\"\"\n",
    "    Test the saved model against the test dataset\n",
    "    \"\"\"\n",
    "\n",
    "    test_features, test_labels = pickle.load(open('preprocess_test.p', mode='rb'))\n",
    "    loaded_graph = tf.Graph()\n",
    "\n",
    "    with tf.Session(graph=loaded_graph) as sess:\n",
    "        # Load model\n",
    "        loader = tf.train.import_meta_graph(save_model_path + '.meta')\n",
    "        loader.restore(sess, save_model_path)\n",
    "\n",
    "        # Get Tensors from loaded model\n",
    "        loaded_x = loaded_graph.get_tensor_by_name('x:0')\n",
    "        loaded_y = loaded_graph.get_tensor_by_name('y:0')\n",
    "        loaded_keep_prob = loaded_graph.get_tensor_by_name('keep_prob:0')\n",
    "        loaded_logits = loaded_graph.get_tensor_by_name('logits:0')\n",
    "        loaded_acc = loaded_graph.get_tensor_by_name('accuracy:0')\n",
    "        \n",
    "        # Get accuracy in batches for memory limitations\n",
    "        test_batch_acc_total = 0\n",
    "        test_batch_count = 0\n",
    "        \n",
    "        for test_feature_batch, test_label_batch in helper.batch_features_labels(test_features, test_labels, batch_size):\n",
    "            test_batch_acc_total += sess.run(\n",
    "                loaded_acc,\n",
    "                feed_dict={loaded_x: test_feature_batch, loaded_y: test_label_batch, loaded_keep_prob: 1.0})\n",
    "            test_batch_count += 1\n",
    "\n",
    "        print('Testing Accuracy: {}\\n'.format(test_batch_acc_total/test_batch_count))\n",
    "\n",
    "        # Print Random Samples\n",
    "        random_test_features, random_test_labels = tuple(zip(*random.sample(list(zip(test_features, test_labels)), n_samples)))\n",
    "        random_test_predictions = sess.run(\n",
    "            tf.nn.top_k(tf.nn.softmax(loaded_logits), top_n_predictions),\n",
    "            feed_dict={loaded_x: random_test_features, loaded_y: random_test_labels, loaded_keep_prob: 1.0})\n",
    "        helper.display_image_predictions(random_test_features, random_test_labels, random_test_predictions)\n",
    "\n",
    "\n",
    "test_model()"
   ]
  },
  {
   "cell_type": "markdown",
   "metadata": {
    "deletable": true,
    "editable": true
   },
   "source": [
    "## Why 50-80% Accuracy?\n",
    "You might be wondering why you can't get an accuracy any higher. First things first, 50% isn't bad for a simple CNN.  Pure guessing would get you 10% accuracy. However, you might notice people are getting scores [well above 80%](http://rodrigob.github.io/are_we_there_yet/build/classification_datasets_results.html#43494641522d3130).  That's because we haven't taught you all there is to know about neural networks. We still need to cover a few more techniques.\n",
    "## Submitting This Project\n",
    "When submitting this project, make sure to run all the cells before saving the notebook.  Save the notebook file as \"dlnd_image_classification.ipynb\" and save it as a HTML file under \"File\" -> \"Download as\".  Include the \"helper.py\" and \"problem_unittests.py\" files in your submission."
   ]
  }
 ],
 "metadata": {
  "kernelspec": {
   "display_name": "Python 3",
   "language": "python",
   "name": "python3"
  },
  "language_info": {
   "codemirror_mode": {
    "name": "ipython",
    "version": 3
   },
   "file_extension": ".py",
   "mimetype": "text/x-python",
   "name": "python",
   "nbconvert_exporter": "python",
   "pygments_lexer": "ipython3",
   "version": "3.5.2"
  }
 },
 "nbformat": 4,
 "nbformat_minor": 0
}
