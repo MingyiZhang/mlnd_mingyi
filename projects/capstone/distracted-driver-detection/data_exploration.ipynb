{
 "cells": [
  {
   "cell_type": "markdown",
   "metadata": {},
   "source": [
    "# Data Exploration"
   ]
  },
  {
   "cell_type": "markdown",
   "metadata": {},
   "source": [
    "In this file, we will explore the image data from Kaggle competition [State Farm Distracted Driver Detection](https://www.kaggle.com/c/state-farm-distracted-driver-detection/data). \n",
    "\n",
    "The dataset contains three files\n",
    "- `imgs.zip`: zipped folder of all (train/test) images\n",
    "- `sample_submission.csv`: a sample submission file in the correct format\n",
    "- `driver_imgs_list.csv`: a list of training images, their subject (driver) id, and class id\n",
    "\n",
    "We first unzip the file `imgs.zip` to obtain the raw image data."
   ]
  },
  {
   "cell_type": "code",
   "execution_count": 1,
   "metadata": {
    "collapsed": false,
    "scrolled": true
   },
   "outputs": [
    {
     "name": "stdout",
     "output_type": "stream",
     "text": [
      "The dataset has been unzipped.\n"
     ]
    }
   ],
   "source": [
    "import zipfile\n",
    "import os\n",
    "from tqdm import tqdm\n",
    "\n",
    "with zipfile.ZipFile('imgs.zip', 'r') as f:\n",
    "    if not os.path.exists('train') or not os.path.exists('test'):\n",
    "        for i in tqdm(range(len(f.infolist()))):\n",
    "            f.extract(f.infolist()[i])\n",
    "    else:\n",
    "        print('The dataset has been unzipped.')"
   ]
  },
  {
   "cell_type": "markdown",
   "metadata": {},
   "source": [
    "We can use `driver_imgs_list.csv` to check if all files is unzipped. "
   ]
  },
  {
   "cell_type": "code",
   "execution_count": 2,
   "metadata": {
    "collapsed": false,
    "scrolled": true
   },
   "outputs": [
    {
     "name": "stdout",
     "output_type": "stream",
     "text": [
      "No file is missing. There are 22424 training images.\n"
     ]
    }
   ],
   "source": [
    "import pandas as pd\n",
    "import numpy as np\n",
    "\n",
    "imgs_list = pd.read_csv('driver_imgs_list.csv')\n",
    "paths_list = []\n",
    "miss_files = []\n",
    "for i in range(len(imgs_list)):\n",
    "    path = 'train/'+imgs_list.iloc[i]['classname']+'/'+imgs_list.iloc[i]['img']\n",
    "    paths_list.append(path)\n",
    "    if not os.path.exists(path):\n",
    "        miss_files.append(path)\n",
    "if len(miss_files) == 0:\n",
    "    print('No file is missing. There are {} training images.'.format(len(imgs_list)))\n",
    "else:\n",
    "    print('The following files are missing:\\n')\n",
    "    print(miss_files)"
   ]
  },
  {
   "cell_type": "markdown",
   "metadata": {},
   "source": [
    "## basic statistics of the data"
   ]
  },
  {
   "cell_type": "code",
   "execution_count": 3,
   "metadata": {
    "collapsed": true
   },
   "outputs": [],
   "source": [
    "# function to get the list of paths in a directory\n",
    "def get_paths(root):\n",
    "    paths = []\n",
    "    for path, subdirs, files in os.walk(root):\n",
    "        for name in files:\n",
    "            paths.append(os.path.join(path, name))\n",
    "    return paths"
   ]
  },
  {
   "cell_type": "markdown",
   "metadata": {},
   "source": [
    "image number of test set"
   ]
  },
  {
   "cell_type": "code",
   "execution_count": 4,
   "metadata": {
    "collapsed": false
   },
   "outputs": [
    {
     "name": "stdout",
     "output_type": "stream",
     "text": [
      "There are 79726 images in the test set.\n"
     ]
    }
   ],
   "source": [
    "test_paths = get_paths('test')\n",
    "print('There are {} images in the test set.'.format(len(test_paths)))"
   ]
  },
  {
   "cell_type": "markdown",
   "metadata": {},
   "source": [
    "the number of drivers and drivers' names"
   ]
  },
  {
   "cell_type": "code",
   "execution_count": 5,
   "metadata": {
    "collapsed": false,
    "scrolled": true
   },
   "outputs": [
    {
     "name": "stdout",
     "output_type": "stream",
     "text": [
      "There are 26 drivers.\n",
      "['p002' 'p012' 'p014' 'p015' 'p016' 'p021' 'p022' 'p024' 'p026' 'p035'\n",
      " 'p039' 'p041' 'p042' 'p045' 'p047' 'p049' 'p050' 'p051' 'p052' 'p056'\n",
      " 'p061' 'p064' 'p066' 'p072' 'p075' 'p081']\n"
     ]
    }
   ],
   "source": [
    "subj = np.unique(imgs_list['subject'])\n",
    "print('There are {} drivers.'.format(len(subj)))\n",
    "print(subj)"
   ]
  },
  {
   "cell_type": "markdown",
   "metadata": {},
   "source": [
    "count image numbers for each drivers"
   ]
  },
  {
   "cell_type": "code",
   "execution_count": 6,
   "metadata": {
    "collapsed": false
   },
   "outputs": [
    {
     "name": "stdout",
     "output_type": "stream",
     "text": [
      "{'p002': 725, 'p026': 1196, 'p022': 1233, 'p081': 823, 'p015': 875, 'p012': 823, 'p064': 820, 'p035': 848, 'p049': 1011, 'p072': 346, 'p056': 794, 'p024': 1226, 'p014': 876, 'p016': 1078, 'p042': 591, 'p050': 790, 'p021': 1237, 'p052': 740, 'p045': 724, 'p066': 1034, 'p061': 809, 'p041': 605, 'p075': 814, 'p051': 920, 'p039': 651, 'p047': 835}\n"
     ]
    }
   ],
   "source": [
    "subj_count = {}\n",
    "for sub in subj:\n",
    "    subj_count[sub] = len(imgs_list[imgs_list['subject']==sub])\n",
    "\n",
    "print(subj_count)"
   ]
  },
  {
   "cell_type": "markdown",
   "metadata": {},
   "source": [
    "number of classes"
   ]
  },
  {
   "cell_type": "code",
   "execution_count": 7,
   "metadata": {
    "collapsed": false
   },
   "outputs": [
    {
     "name": "stdout",
     "output_type": "stream",
     "text": [
      "There are 10 classes.\n",
      "['c0' 'c1' 'c2' 'c3' 'c4' 'c5' 'c6' 'c7' 'c8' 'c9']\n"
     ]
    }
   ],
   "source": [
    "cls_name = np.unique(imgs_list['classname'])\n",
    "print('There are {} classes.'.format(len(cls_name)))\n",
    "print(cls_name)"
   ]
  },
  {
   "cell_type": "markdown",
   "metadata": {},
   "source": [
    "image numbers for each class"
   ]
  },
  {
   "cell_type": "code",
   "execution_count": 8,
   "metadata": {
    "collapsed": false
   },
   "outputs": [
    {
     "name": "stdout",
     "output_type": "stream",
     "text": [
      "{'c7': 2002, 'c1': 2267, 'c8': 1911, 'c9': 2129, 'c4': 2326, 'c5': 2312, 'c6': 2325, 'c0': 2489, 'c2': 2317, 'c3': 2346}\n"
     ]
    }
   ],
   "source": [
    "cls_count = {}\n",
    "for cls in cls_name:\n",
    "    cls_count[cls] = len(imgs_list[imgs_list['classname']==cls])\n",
    "\n",
    "print(cls_count)"
   ]
  },
  {
   "cell_type": "markdown",
   "metadata": {},
   "source": [
    "## animation of the data"
   ]
  },
  {
   "cell_type": "code",
   "execution_count": 9,
   "metadata": {
    "collapsed": true
   },
   "outputs": [],
   "source": [
    "import cv2\n",
    "import imageio\n",
    "import matplotlib.pyplot as plt\n",
    "import matplotlib.animation as animation\n",
    "%matplotlib inline  "
   ]
  },
  {
   "cell_type": "code",
   "execution_count": 10,
   "metadata": {
    "collapsed": false
   },
   "outputs": [
    {
     "name": "stderr",
     "output_type": "stream",
     "text": [
      "100%|██████████| 26/26 [14:04<00:00, 29.10s/it]\n"
     ]
    }
   ],
   "source": [
    "for i in tqdm(range(len(subj))):\n",
    "# for s in subj:\n",
    "    s = subj[i]\n",
    "    ss = imgs_list[imgs_list['subject']==s]\n",
    "    frames = []\n",
    "    # for j in tqdm(range(len(ss.values))):\n",
    "    for f in ss.values:\n",
    "        # f = ss.values[j]\n",
    "        frame = cv2.imread('train/'+f[1]+'/'+f[2])\n",
    "        frame = cv2.resize(frame, (160, 120))\n",
    "        frame = cv2.cvtColor(frame, cv2.COLOR_BGR2RGB)\n",
    "        frames.append(frame)\n",
    "    if not os.path.exists('gifs'):\n",
    "        os.makedirs('gifs')\n",
    "    imageio.mimsave('gifs/'+s+'_moive.gif', frames, duration=0.1)"
   ]
  },
  {
   "cell_type": "code",
   "execution_count": 45,
   "metadata": {
    "collapsed": false,
    "scrolled": true
   },
   "outputs": [],
   "source": [
    "s1 = imgs_list[imgs_list['subject']==subj[0]]\n",
    "frames = []\n",
    "for f in s1.values:\n",
    "    frame = cv2.imread('train/'+f[1]+'/'+f[2])\n",
    "    frame = cv2.resize(frame, (320, 240))\n",
    "    frame = cv2.cvtColor(frame, cv2.COLOR_BGR2RGB)\n",
    "    frames.append(frame)"
   ]
  },
  {
   "cell_type": "code",
   "execution_count": 52,
   "metadata": {
    "collapsed": true
   },
   "outputs": [],
   "source": [
    "imageio.mimsave('movie_imgio.gif', frames, duration=0.05)"
   ]
  }
 ],
 "metadata": {
  "kernelspec": {
   "display_name": "Python 3",
   "language": "python",
   "name": "python3"
  },
  "language_info": {
   "codemirror_mode": {
    "name": "ipython",
    "version": 3
   },
   "file_extension": ".py",
   "mimetype": "text/x-python",
   "name": "python",
   "nbconvert_exporter": "python",
   "pygments_lexer": "ipython3",
   "version": "3.5.2"
  }
 },
 "nbformat": 4,
 "nbformat_minor": 1
}
