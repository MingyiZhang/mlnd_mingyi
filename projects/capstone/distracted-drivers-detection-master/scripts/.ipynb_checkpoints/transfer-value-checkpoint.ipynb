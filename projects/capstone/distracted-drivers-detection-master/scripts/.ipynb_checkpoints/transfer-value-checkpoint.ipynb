{
 "cells": [
  {
   "cell_type": "code",
   "execution_count": 2,
   "metadata": {},
   "outputs": [],
   "source": [
    "from transfer_value_maker_loader import tv_maker\n",
    "from checkpoints_downloader import ckpt_maker\n",
    "\n",
    "import tensorflow as tf"
   ]
  },
  {
   "cell_type": "code",
   "execution_count": 3,
   "metadata": {
    "collapsed": true
   },
   "outputs": [],
   "source": [
    "dataset_dir = '../dataset_tf'\n",
    "# directory of original tfrecord dataset\n",
    "\n",
    "file_pattern = 'drivers_{}_*.tfrecord'\n",
    "# filepattern of the original tfrecord dataset"
   ]
  },
  {
   "cell_type": "code",
   "execution_count": 4,
   "metadata": {},
   "outputs": [
    {
     "name": "stdout",
     "output_type": "stream",
     "text": [
      "Checkpoint for resnet_v2_50 is ready!\n",
      "File name: ../checkpoints/resnet_v2_50.ckpt\n"
     ]
    }
   ],
   "source": [
    "MODEL = 'resnet_v2_50'\n",
    "# MODELs = ['vgg_16', \n",
    "#           'vgg_19', \n",
    "#           'inception_v1', \n",
    "#           'inception_v2', \n",
    "#           'inception_v3', \n",
    "#           'inception_v4', \n",
    "#           'inception_resnet_v2',\n",
    "#           'resnet_v2_50', \n",
    "#           'resnet_v2_101', \n",
    "#           'resnet_v2_152']\n",
    "\n",
    "split_name = 'train'\n",
    "# split_names = ['train', 'validation', 'test']\n",
    "\n",
    "\n",
    "tf_dir = '../transfer-value-tf/' + MODEL\n",
    "# dir for saving tranfer-value\n",
    "if not tf.gfile.Exists(tf_dir):\n",
    "    tf.gfile.MakeDirs(tf_dir)\n",
    "\n",
    "checkpoints_dir = '../checkpoints'\n",
    "checkpoint_file = ckpt_maker(MODEL, checkpoints_dir=checkpoints_dir)\n",
    "# checkpoint file of MODEL\n",
    "\n",
    "log_dir = '../log/transfer-value/' + MODEL\n",
    "# dir for saving log of making transfer-value\n",
    "if not tf.gfile.Exists(log_dir):\n",
    "    tf.gfile.MakeDirs(log_dir)"
   ]
  },
  {
   "cell_type": "code",
   "execution_count": null,
   "metadata": {
    "collapsed": true
   },
   "outputs": [],
   "source": [
    "tv_maker_avg(MODEL, split_name, dataset_dir, file_pattern, tf_dir, checkpoint_file, log_dir)"
   ]
  },
  {
   "cell_type": "code",
   "execution_count": null,
   "metadata": {
    "collapsed": true
   },
   "outputs": [],
   "source": [
    "for MODEL in MODELs:\n",
    "    checkpoint_file = ckpt_maker(MODEL, checkpoints_dir=checkpoints_dir)\n",
    "    tf_dir = '../transfer-value-tf/' + MODEL\n",
    "    log_dir = '../log/transfer-value/' + MODEL\n",
    "    for split_name in split_names:\n",
    "        tv_maker(MODEL, split_name, dataset_dir, file_pattern, tf_dir, checkpoint_file, log_dir)"
   ]
  }
 ],
 "metadata": {
  "kernelspec": {
   "display_name": "Python 3",
   "language": "python",
   "name": "python3"
  },
  "language_info": {
   "codemirror_mode": {
    "name": "ipython",
    "version": 3
   },
   "file_extension": ".py",
   "mimetype": "text/x-python",
   "name": "python",
   "nbconvert_exporter": "python",
   "pygments_lexer": "ipython3",
   "version": "3.6.2"
  }
 },
 "nbformat": 4,
 "nbformat_minor": 2
}
