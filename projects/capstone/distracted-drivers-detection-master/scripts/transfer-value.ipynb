{
 "cells": [
  {
   "cell_type": "code",
   "execution_count": 1,
   "metadata": {
    "collapsed": true
   },
   "outputs": [],
   "source": [
    "from transfer_value_maker_loader import tv_maker_avg\n",
    "from checkpoints_downloader import ckpt_maker\n",
    "\n",
    "import tensorflow as tf"
   ]
  },
  {
   "cell_type": "code",
   "execution_count": 2,
   "metadata": {
    "collapsed": true
   },
   "outputs": [],
   "source": [
    "dataset_dir = '/dataset_tf'\n",
    "# directory of original tfrecord dataset\n",
    "\n",
    "file_pattern = 'drivers_{}_*.tfrecord'\n",
    "# filepattern of the original tfrecord dataset"
   ]
  },
  {
   "cell_type": "code",
   "execution_count": 3,
   "metadata": {},
   "outputs": [
    {
     "name": "stdout",
     "output_type": "stream",
     "text": [
      "Checkpoint for resnet_v2_50 is ready!\n",
      "File name: checkpoints/resnet_v2_50.ckpt\n"
     ]
    }
   ],
   "source": [
    "MODEL = 'resnet_v2_50'\n",
    "MODELs = ['inception_v3', \n",
    "          'inception_v4', \n",
    "          'inception_resnet_v2',\n",
    "          'resnet_v2_152']\n",
    "\n",
    "split_name = 'train'\n",
    "split_names = ['train', 'validation', 'test']\n",
    "\n",
    "\n",
    "tf_dir = 'transfer-value-tf/' + MODEL\n",
    "# dir for saving tranfer-value\n",
    "if not tf.gfile.Exists(tf_dir):\n",
    "    tf.gfile.MakeDirs(tf_dir)\n",
    "\n",
    "checkpoints_dir = 'checkpoints'\n",
    "checkpoint_file = ckpt_maker(MODEL, checkpoints_dir=checkpoints_dir)\n",
    "# checkpoint file of MODEL\n",
    "\n",
    "log_dir = 'log/transfer-value/' + MODEL\n",
    "# dir for saving log of making transfer-value\n",
    "if not tf.gfile.Exists(log_dir):\n",
    "    tf.gfile.MakeDirs(log_dir)"
   ]
  },
  {
   "cell_type": "code",
   "execution_count": null,
   "metadata": {},
   "outputs": [
    {
     "name": "stdout",
     "output_type": "stream",
     "text": [
      ">> Downloading inception_v3_2016_08_28.tar.gz 100.0%\n",
      "Successfully downloaded inception_v3_2016_08_28.tar.gz 100885009 bytes.\n",
      "Checkpoint for inception_v3 is ready!\n",
      "File name: checkpoints/inception_v3.ckpt\n",
      "INFO:tensorflow:Scale of 0 disables regularizer.\n",
      "INFO:tensorflow:Restoring parameters from checkpoints/inception_v3.ckpt\n"
     ]
    },
    {
     "name": "stderr",
     "output_type": "stream",
     "text": [
      "\r",
      "  0%|          | 0/17940 [00:00<?, ?it/s]"
     ]
    },
    {
     "name": "stdout",
     "output_type": "stream",
     "text": [
      "Writing file transfer-value-tf/inception_v3/train.tfrecord...\n"
     ]
    },
    {
     "name": "stderr",
     "output_type": "stream",
     "text": [
      "100%|██████████| 17940/17940 [09:47<00:00, 30.53it/s]\n"
     ]
    },
    {
     "name": "stdout",
     "output_type": "stream",
     "text": [
      "transfer-value-tf/inception_v3/train.tfrecord complete.\n",
      "INFO:tensorflow:Scale of 0 disables regularizer.\n",
      "INFO:tensorflow:Restoring parameters from checkpoints/inception_v3.ckpt\n"
     ]
    },
    {
     "name": "stderr",
     "output_type": "stream",
     "text": [
      "  0%|          | 1/4484 [00:00<13:51,  5.39it/s]"
     ]
    },
    {
     "name": "stdout",
     "output_type": "stream",
     "text": [
      "Writing file transfer-value-tf/inception_v3/validation.tfrecord...\n"
     ]
    },
    {
     "name": "stderr",
     "output_type": "stream",
     "text": [
      "100%|██████████| 4484/4484 [02:26<00:00, 30.59it/s]\n"
     ]
    },
    {
     "name": "stdout",
     "output_type": "stream",
     "text": [
      "transfer-value-tf/inception_v3/validation.tfrecord complete.\n",
      "INFO:tensorflow:Scale of 0 disables regularizer.\n",
      "INFO:tensorflow:Restoring parameters from checkpoints/inception_v3.ckpt\n"
     ]
    },
    {
     "name": "stderr",
     "output_type": "stream",
     "text": [
      "  0%|          | 1/79726 [00:00<4:00:35,  5.52it/s]"
     ]
    },
    {
     "name": "stdout",
     "output_type": "stream",
     "text": [
      "Writing file transfer-value-tf/inception_v3/test.tfrecord...\n"
     ]
    },
    {
     "name": "stderr",
     "output_type": "stream",
     "text": [
      "100%|██████████| 79726/79726 [43:32<00:00, 30.48it/s]\n"
     ]
    },
    {
     "name": "stdout",
     "output_type": "stream",
     "text": [
      "transfer-value-tf/inception_v3/test.tfrecord complete.\n",
      ">> Downloading inception_v4_2016_09_09.tar.gz 100.0%\n",
      "Successfully downloaded inception_v4_2016_09_09.tar.gz 171177982 bytes.\n",
      "Checkpoint for inception_v4 is ready!\n",
      "File name: checkpoints/inception_v4.ckpt\n",
      "INFO:tensorflow:Scale of 0 disables regularizer.\n",
      "INFO:tensorflow:Restoring parameters from checkpoints/inception_v4.ckpt\n"
     ]
    },
    {
     "name": "stderr",
     "output_type": "stream",
     "text": [
      "\r",
      "  0%|          | 0/17940 [00:00<?, ?it/s]"
     ]
    },
    {
     "name": "stdout",
     "output_type": "stream",
     "text": [
      "Writing file transfer-value-tf/inception_v4/train.tfrecord...\n"
     ]
    },
    {
     "name": "stderr",
     "output_type": "stream",
     "text": [
      "100%|██████████| 17940/17940 [17:42<00:00, 16.88it/s]\n"
     ]
    },
    {
     "name": "stdout",
     "output_type": "stream",
     "text": [
      "transfer-value-tf/inception_v4/train.tfrecord complete.\n",
      "INFO:tensorflow:Scale of 0 disables regularizer.\n",
      "INFO:tensorflow:Restoring parameters from checkpoints/inception_v4.ckpt\n"
     ]
    },
    {
     "name": "stderr",
     "output_type": "stream",
     "text": [
      "\r",
      "  0%|          | 0/4484 [00:00<?, ?it/s]"
     ]
    },
    {
     "name": "stdout",
     "output_type": "stream",
     "text": [
      "Writing file transfer-value-tf/inception_v4/validation.tfrecord...\n"
     ]
    },
    {
     "name": "stderr",
     "output_type": "stream",
     "text": [
      "100%|██████████| 4484/4484 [04:25<00:00, 16.87it/s]\n"
     ]
    },
    {
     "name": "stdout",
     "output_type": "stream",
     "text": [
      "transfer-value-tf/inception_v4/validation.tfrecord complete.\n",
      "INFO:tensorflow:Scale of 0 disables regularizer.\n",
      "INFO:tensorflow:Restoring parameters from checkpoints/inception_v4.ckpt\n"
     ]
    },
    {
     "name": "stderr",
     "output_type": "stream",
     "text": [
      "\r",
      "  0%|          | 0/79726 [00:00<?, ?it/s]"
     ]
    },
    {
     "name": "stdout",
     "output_type": "stream",
     "text": [
      "Writing file transfer-value-tf/inception_v4/test.tfrecord...\n"
     ]
    },
    {
     "name": "stderr",
     "output_type": "stream",
     "text": [
      "100%|██████████| 79726/79726 [1:18:33<00:00, 16.92it/s]\n"
     ]
    },
    {
     "name": "stdout",
     "output_type": "stream",
     "text": [
      "transfer-value-tf/inception_v4/test.tfrecord complete.\n",
      ">> Downloading inception_resnet_v2_2016_08_30.tar.gz 100.0%\n",
      "Successfully downloaded inception_resnet_v2_2016_08_30.tar.gz 220632346 bytes.\n",
      "Checkpoint for inception_resnet_v2 is ready!\n",
      "File name: checkpoints/inception_resnet_v2_2016_08_30.ckpt\n",
      "INFO:tensorflow:Scale of 0 disables regularizer.\n",
      "INFO:tensorflow:Scale of 0 disables regularizer.\n",
      "INFO:tensorflow:Restoring parameters from checkpoints/inception_resnet_v2_2016_08_30.ckpt\n"
     ]
    },
    {
     "name": "stderr",
     "output_type": "stream",
     "text": [
      "\r",
      "  0%|          | 0/17940 [00:00<?, ?it/s]"
     ]
    },
    {
     "name": "stdout",
     "output_type": "stream",
     "text": [
      "Writing file transfer-value-tf/inception_resnet_v2/train.tfrecord...\n"
     ]
    },
    {
     "name": "stderr",
     "output_type": "stream",
     "text": [
      "100%|██████████| 17940/17940 [21:08<00:00, 14.14it/s]\n"
     ]
    },
    {
     "name": "stdout",
     "output_type": "stream",
     "text": [
      "transfer-value-tf/inception_resnet_v2/train.tfrecord complete.\n",
      "INFO:tensorflow:Scale of 0 disables regularizer.\n",
      "INFO:tensorflow:Scale of 0 disables regularizer.\n",
      "INFO:tensorflow:Restoring parameters from checkpoints/inception_resnet_v2_2016_08_30.ckpt\n"
     ]
    },
    {
     "name": "stderr",
     "output_type": "stream",
     "text": [
      "\r",
      "  0%|          | 0/4484 [00:00<?, ?it/s]"
     ]
    },
    {
     "name": "stdout",
     "output_type": "stream",
     "text": [
      "Writing file transfer-value-tf/inception_resnet_v2/validation.tfrecord...\n"
     ]
    },
    {
     "name": "stderr",
     "output_type": "stream",
     "text": [
      "100%|██████████| 4484/4484 [05:16<00:00, 14.17it/s]\n"
     ]
    },
    {
     "name": "stdout",
     "output_type": "stream",
     "text": [
      "transfer-value-tf/inception_resnet_v2/validation.tfrecord complete.\n",
      "INFO:tensorflow:Scale of 0 disables regularizer.\n",
      "INFO:tensorflow:Scale of 0 disables regularizer.\n",
      "INFO:tensorflow:Restoring parameters from checkpoints/inception_resnet_v2_2016_08_30.ckpt\n"
     ]
    },
    {
     "name": "stderr",
     "output_type": "stream",
     "text": [
      "\r",
      "  0%|          | 0/79726 [00:00<?, ?it/s]"
     ]
    },
    {
     "name": "stdout",
     "output_type": "stream",
     "text": [
      "Writing file transfer-value-tf/inception_resnet_v2/test.tfrecord...\n"
     ]
    },
    {
     "name": "stderr",
     "output_type": "stream",
     "text": [
      "100%|██████████| 79726/79726 [1:33:54<00:00, 14.18it/s]\n"
     ]
    },
    {
     "name": "stdout",
     "output_type": "stream",
     "text": [
      "transfer-value-tf/inception_resnet_v2/test.tfrecord complete.\n",
      ">> Downloading resnet_v2_152_2017_04_14.tar.gz 100.0%\n",
      "Successfully downloaded resnet_v2_152_2017_04_14.tar.gz 675629399 bytes.\n",
      "Checkpoint for resnet_v2_152 is ready!\n",
      "File name: checkpoints/resnet_v2_152.ckpt\n",
      "INFO:tensorflow:Scale of 0 disables regularizer.\n",
      "INFO:tensorflow:Restoring parameters from checkpoints/resnet_v2_152.ckpt\n"
     ]
    },
    {
     "name": "stderr",
     "output_type": "stream",
     "text": [
      "\r",
      "  0%|          | 0/17940 [00:00<?, ?it/s]"
     ]
    },
    {
     "name": "stdout",
     "output_type": "stream",
     "text": [
      "Writing file transfer-value-tf/resnet_v2_152/train.tfrecord...\n"
     ]
    },
    {
     "name": "stderr",
     "output_type": "stream",
     "text": [
      " 73%|███████▎  | 13043/17940 [11:34<04:22, 18.63it/s]"
     ]
    }
   ],
   "source": [
    "for MODEL in MODELs:\n",
    "    checkpoint_file = ckpt_maker(MODEL, checkpoints_dir=checkpoints_dir)\n",
    "    tf_dir = 'transfer-value-tf/' + MODEL\n",
    "    log_dir = 'log/transfer-value/' + MODEL\n",
    "    if not tf.gfile.Exists(tf_dir):\n",
    "        tf.gfile.MakeDirs(tf_dir)\n",
    "    if not tf.gfile.Exists(log_dir):\n",
    "        tf.gfile.MakeDirs(log_dir)    \n",
    "    for split_name in split_names:\n",
    "        tv_maker_avg(MODEL, split_name, dataset_dir, file_pattern, tf_dir, checkpoint_file, log_dir)"
   ]
  },
  {
   "cell_type": "code",
   "execution_count": null,
   "metadata": {
    "collapsed": true
   },
   "outputs": [],
   "source": []
  }
 ],
 "metadata": {
  "kernelspec": {
   "display_name": "Python 3",
   "language": "python",
   "name": "python3"
  },
  "language_info": {
   "codemirror_mode": {
    "name": "ipython",
    "version": 3
   },
   "file_extension": ".py",
   "mimetype": "text/x-python",
   "name": "python",
   "nbconvert_exporter": "python",
   "pygments_lexer": "ipython3",
   "version": "3.6.2"
  }
 },
 "nbformat": 4,
 "nbformat_minor": 2
}
