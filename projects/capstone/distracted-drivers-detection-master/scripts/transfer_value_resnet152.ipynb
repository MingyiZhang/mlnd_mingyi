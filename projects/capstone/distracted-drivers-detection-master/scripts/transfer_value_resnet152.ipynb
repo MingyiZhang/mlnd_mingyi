{
 "cells": [
  {
   "cell_type": "code",
   "execution_count": 1,
   "metadata": {
    "collapsed": true
   },
   "outputs": [],
   "source": [
    "from transfer_value_maker_loader import tv_maker, tv_maker_avg\n",
    "from checkpoints_downloader import ckpt_maker\n",
    "\n",
    "import tensorflow as tf"
   ]
  },
  {
   "cell_type": "code",
   "execution_count": 2,
   "metadata": {
    "collapsed": true
   },
   "outputs": [],
   "source": [
    "dataset_dir = '/dataset_tf'\n",
    "# directory of original tfrecord dataset\n",
    "\n",
    "file_pattern = 'drivers_{}_*.tfrecord'\n",
    "# filepattern of the original tfrecord dataset"
   ]
  },
  {
   "cell_type": "code",
   "execution_count": 3,
   "metadata": {},
   "outputs": [
    {
     "name": "stdout",
     "output_type": "stream",
     "text": [
      ">> Downloading resnet_v2_152_2017_04_14.tar.gz 97.2%\n",
      "Successfully downloaded resnet_v2_152_2017_04_14.tar.gz 675629399 bytes.\n",
      "Checkpoint for resnet_v2_152 is ready!\n",
      "File name: checkpoints/resnet_v2_152.ckpt\n"
     ]
    }
   ],
   "source": [
    "MODEL = 'resnet_v2_152'\n",
    "# MODELs = ['vgg_16', \n",
    "#           'vgg_19', \n",
    "#           'inception_v1', \n",
    "#           'inception_v2', \n",
    "#           'inception_v3', \n",
    "#           'inception_v4', \n",
    "#           'inception_resnet_v2',\n",
    "#           'resnet_v2_50', \n",
    "#           'resnet_v2_101', \n",
    "#           'resnet_v2_152']\n",
    "\n",
    "split_name = 'train'\n",
    "split_names = ['train', 'validation', 'test']\n",
    "\n",
    "\n",
    "tf_dir = 'transfer-value-tf/' + MODEL\n",
    "# dir for saving tranfer-value\n",
    "if not tf.gfile.Exists(tf_dir):\n",
    "    tf.gfile.MakeDirs(tf_dir)\n",
    "\n",
    "checkpoints_dir = 'checkpoints'\n",
    "checkpoint_file = ckpt_maker(MODEL, checkpoints_dir=checkpoints_dir)\n",
    "# checkpoint file of MODEL\n",
    "\n",
    "log_dir = 'log/transfer-value/' + MODEL\n",
    "# dir for saving log of making transfer-value\n",
    "if not tf.gfile.Exists(log_dir):\n",
    "    tf.gfile.MakeDirs(log_dir)"
   ]
  },
  {
   "cell_type": "code",
   "execution_count": null,
   "metadata": {
    "collapsed": true
   },
   "outputs": [],
   "source": [
    "tv_maker_avg(MODEL, split_name, dataset_dir, file_pattern, tf_dir, checkpoint_file, log_dir)"
   ]
  },
  {
   "cell_type": "code",
   "execution_count": null,
   "metadata": {
    "collapsed": true
   },
   "outputs": [],
   "source": [
    "for MODEL in MODELs:\n",
    "    checkpoint_file = ckpt_maker(MODEL, checkpoints_dir=checkpoints_dir)\n",
    "    tf_dir = '../transfer-value-tf/' + MODEL\n",
    "    log_dir = '../log/transfer-value/' + MODEL\n",
    "    for split_name in split_names:\n",
    "        tv_maker(MODEL, split_name, dataset_dir, file_pattern, tf_dir, checkpoint_file, log_dir)"
   ]
  },
  {
   "cell_type": "code",
   "execution_count": 4,
   "metadata": {},
   "outputs": [
    {
     "name": "stdout",
     "output_type": "stream",
     "text": [
      "INFO:tensorflow:Scale of 0 disables regularizer.\n",
      "INFO:tensorflow:Restoring parameters from checkpoints/resnet_v2_152.ckpt\n"
     ]
    },
    {
     "name": "stderr",
     "output_type": "stream",
     "text": [
      "\r",
      "  0%|          | 0/17940 [00:00<?, ?it/s]"
     ]
    },
    {
     "name": "stdout",
     "output_type": "stream",
     "text": [
      "Writing file transfer-value-tf/resnet_v2_152/train.tfrecord...\n"
     ]
    },
    {
     "name": "stderr",
     "output_type": "stream",
     "text": [
      "100%|██████████| 17940/17940 [15:40<00:00, 19.08it/s]\n"
     ]
    },
    {
     "name": "stdout",
     "output_type": "stream",
     "text": [
      "transfer-value-tf/resnet_v2_152/train.tfrecord complete.\n",
      "INFO:tensorflow:Scale of 0 disables regularizer.\n",
      "INFO:tensorflow:Restoring parameters from checkpoints/resnet_v2_152.ckpt\n"
     ]
    },
    {
     "name": "stderr",
     "output_type": "stream",
     "text": [
      "\r",
      "  0%|          | 0/4484 [00:00<?, ?it/s]"
     ]
    },
    {
     "name": "stdout",
     "output_type": "stream",
     "text": [
      "Writing file transfer-value-tf/resnet_v2_152/validation.tfrecord...\n"
     ]
    },
    {
     "name": "stderr",
     "output_type": "stream",
     "text": [
      "100%|██████████| 4484/4484 [03:54<00:00, 19.12it/s]\n"
     ]
    },
    {
     "name": "stdout",
     "output_type": "stream",
     "text": [
      "transfer-value-tf/resnet_v2_152/validation.tfrecord complete.\n",
      "INFO:tensorflow:Scale of 0 disables regularizer.\n",
      "INFO:tensorflow:Restoring parameters from checkpoints/resnet_v2_152.ckpt\n"
     ]
    },
    {
     "name": "stderr",
     "output_type": "stream",
     "text": [
      "\r",
      "  0%|          | 0/79726 [00:00<?, ?it/s]"
     ]
    },
    {
     "name": "stdout",
     "output_type": "stream",
     "text": [
      "Writing file transfer-value-tf/resnet_v2_152/test.tfrecord...\n"
     ]
    },
    {
     "name": "stderr",
     "output_type": "stream",
     "text": [
      "100%|██████████| 79726/79726 [1:09:29<00:00, 19.07it/s]\n"
     ]
    },
    {
     "name": "stdout",
     "output_type": "stream",
     "text": [
      "transfer-value-tf/resnet_v2_152/test.tfrecord complete.\n"
     ]
    }
   ],
   "source": [
    "for split_name in split_names:\n",
    "    tv_maker_avg(MODEL, split_name, dataset_dir, file_pattern, tf_dir, checkpoint_file, log_dir)"
   ]
  },
  {
   "cell_type": "code",
   "execution_count": null,
   "metadata": {
    "collapsed": true
   },
   "outputs": [],
   "source": []
  }
 ],
 "metadata": {
  "kernelspec": {
   "display_name": "Python 3",
   "language": "python",
   "name": "python3"
  },
  "language_info": {
   "codemirror_mode": {
    "name": "ipython",
    "version": 3
   },
   "file_extension": ".py",
   "mimetype": "text/x-python",
   "name": "python",
   "nbconvert_exporter": "python",
   "pygments_lexer": "ipython3",
   "version": "3.5.3"
  }
 },
 "nbformat": 4,
 "nbformat_minor": 2
}
