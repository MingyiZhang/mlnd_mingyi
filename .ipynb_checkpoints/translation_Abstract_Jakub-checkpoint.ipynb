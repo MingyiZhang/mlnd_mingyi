{
 "cells": [
  {
   "cell_type": "markdown",
   "metadata": {},
   "source": [
    "Canonical Loop Quantum Gravity is a nonperturbative theory of quantum dynamics of the Einsteinian gravitational field. Being a proposal of quantization of General Relativity, it satisfies the equivalence principle. Therefore its formalism can be naturally extended on matter fields. For simplicity we consider only bosonic degrees of freedom."
   ]
  },
  {
   "cell_type": "markdown",
   "metadata": {},
   "source": [
    "正则圈量子引力是爱因斯坦引力场的一种量子动力学非微扰理论。作为广义相对论的一种量子化方式，它满足等效原理。因此可以很自然地将物质场包含进来。为了简单起见，我们只考虑波色子的自由度。"
   ]
  },
  {
   "cell_type": "markdown",
   "metadata": {},
   "source": [
    "Canonical framework is based on the Ashtekar formulation of General Relativity with an explicitly written SU(2) symmetry. The theory is regulated on a graph Γ, introducing a parameter ε, being the value of the length of links. The quantization is performed analogically to lattice gauge theories. The Hamiltonian for gravitational field takes the form of a sum of three constraints. Two of them impose SU(2) symmetry and spatial diffeomorphism invariance, while the scalar constraint describes dynamics. <font color='red'>The Hilbert space for Loop Quantum Gravity is a product of Wigner matrices and intertwiners.</font> The first ones, attach a spin in some irreducible representation to the links of Γ, while the intertwiners implement SU(2) invariance on the nodes."
   ]
  },
  {
   "cell_type": "markdown",
   "metadata": {},
   "source": [
    "基于广义相对论的阿什塔卡（Ashtekar）表述，圈量子引力的正则理论具有SU(2)对称性。该理论正规化于一个图（graph）$\\Gamma$上，图上每条链接（link）的长度为$\\varepsilon$。其量子化比照格点规范场论的量子化。引力场的哈密顿量可以写成三个约束的和。其中两个约束引入了SU(2)规范不变性和类空微分同胚不变性（spatial diffeomorphism invariance）。第三个标量约束引入了动力学。<font color='red'>圈量子引力的希尔伯特空间由威格纳矩阵（Wigner matrix）和intertwiner相乘而得。</font> 威格纳矩阵将SU(2)自旋不可约表示赋予$\\Gamma$的每一条链接上，而intertwiner则在图的每个结点引入SU(2)规范不变性。"
   ]
  },
  {
   "cell_type": "markdown",
   "metadata": {},
   "source": [
    "We consider the sector of Loop Quantum Gravity that describes models with the diagonal spatial part of metric. It restricts the diffeomorphism invariance of the full theory to the selected diagonal symmetry. As a result, one obtains the states constructed over a cuboidal graph. It automatically breaks SU(2) invariance to U(1) symmetries along directions that diagonalize su(2) generators."
   ]
  },
  {
   "cell_type": "markdown",
   "metadata": {},
   "source": [
    "在本论文中，我们用圈量子引力描述了当度规的类空部分被对角化后的模型。在此模型中，原有的类空微分同胚不变性被限制为一些对角化的对称性。为此，量子态将构建在立方图中。SU(2)规范不变性自动破缺到沿着su(2)生成元对角化方向的U(1)规范不变性。"
   ]
  },
  {
   "cell_type": "markdown",
   "metadata": {},
   "source": [
    "A diffeomorphism invariant, background independent and properly densitized representation of matter fields can be constructed by analogy to gravity. Vector field operators are built from the lattice-smeared electric and magnetic fields. In the case of the scalar field there is an ambiguity in construction of new representations for fundamental variables, since the covariant derivative of a field and the scalar field potential are topological. However the action of the Hamiltonian operator is independent of this choice as long as the new fundamental fields are properly densitized (i.e. they are pseudoforms)."
   ]
  },
  {
   "cell_type": "markdown",
   "metadata": {},
   "source": [
    "参照引力，我们可以构造一个微分同胚不变，背景独立，且被恰当稠密化（properly densitized）的物质场表示。将电磁场在格点上抹平可以得到矢量场算符。"
   ]
  },
  {
   "cell_type": "markdown",
   "metadata": {},
   "source": [
    "We constructed well defined Hamiltonian operators for all Standard Model bosonic fields and gravity. Considering models with diagonal spatial metric, we get analytical matrix elements. It does not break the equivalence principle as long as one chooses diagonal degrees of freedom after quantization. The results are regulator independent at the leading order and they reproduce appropriate classical expressions. The next to the leading order corrections read 5.54\\times 10^20 \\beta\\gamma^2\\varepsilon_0^2l_P^4/l_0^4 where β = 7 for matter and β = 2 in the case of gravity. γ is the Immirzi parameter, ε0 is the cut-off on regulator, lP denotes Planck length, while l0 is a fiducial length defining dimensionless lattice operators. It is worth noting that the object (γ l0/ε0)^2 is a free parameter of the theory. Different prerequisites for fixing values of its components can be used to compare this result with the measured value of the cosmological constant in the Λ-CDM model or with the corrections arising from Quantum Field Theory."
   ]
  },
  {
   "cell_type": "code",
   "execution_count": null,
   "metadata": {
    "collapsed": true
   },
   "outputs": [],
   "source": []
  }
 ],
 "metadata": {
  "kernelspec": {
   "display_name": "Python 3",
   "language": "python",
   "name": "python3"
  },
  "language_info": {
   "codemirror_mode": {
    "name": "ipython",
    "version": 3
   },
   "file_extension": ".py",
   "mimetype": "text/x-python",
   "name": "python",
   "nbconvert_exporter": "python",
   "pygments_lexer": "ipython3",
   "version": "3.6.0"
  }
 },
 "nbformat": 4,
 "nbformat_minor": 2
}
